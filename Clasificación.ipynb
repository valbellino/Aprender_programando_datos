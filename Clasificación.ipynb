{
 "cells": [
  {
   "cell_type": "code",
   "execution_count": 102,
   "id": "armed-production",
   "metadata": {},
   "outputs": [
    {
     "name": "stdout",
     "output_type": "stream",
     "text": [
      "Collecting package metadata (current_repodata.json): ...working... done\n",
      "Solving environment: ...working... failed with initial frozen solve. Retrying with flexible solve.\n",
      "Collecting package metadata (repodata.json): ...working... done\n",
      "Solving environment: ...working... done\n",
      "\n",
      "## Package Plan ##\n",
      "\n",
      "  environment location: C:\\Users\\Valeria\\Anaconda3\\envs\\dhdsblend\n",
      "\n",
      "  added / updated specs:\n",
      "    - python-graphviz\n",
      "\n",
      "\n",
      "The following packages will be downloaded:\n",
      "\n",
      "    package                    |            build\n",
      "    ---------------------------|-----------------\n",
      "    ca-certificates-2021.7.5   |       haa95532_1         113 KB\n",
      "    certifi-2021.5.30          |   py37haa95532_0         139 KB\n",
      "    openssl-1.1.1l             |       h2bbff1b_0         4.8 MB\n",
      "    python-graphviz-0.16       |     pyhd3eb1b0_1          20 KB\n",
      "    ------------------------------------------------------------\n",
      "                                           Total:         5.1 MB\n",
      "\n",
      "The following NEW packages will be INSTALLED:\n",
      "\n",
      "  python-graphviz    pkgs/main/noarch::python-graphviz-0.16-pyhd3eb1b0_1\n",
      "\n",
      "The following packages will be UPDATED:\n",
      "\n",
      "  ca-certificates    conda-forge::ca-certificates-2020.12.~ --> pkgs/main::ca-certificates-2021.7.5-haa95532_1\n",
      "  certifi            conda-forge::certifi-2020.12.5-py37h0~ --> pkgs/main::certifi-2021.5.30-py37haa95532_0\n",
      "  openssl            conda-forge::openssl-1.1.1j-h8ffe710_0 --> pkgs/main::openssl-1.1.1l-h2bbff1b_0\n",
      "\n",
      "The following packages will be SUPERSEDED by a higher-priority channel:\n",
      "\n",
      "  scikit-learn       conda-forge::scikit-learn-0.24.1-py37~ --> pkgs/main::scikit-learn-0.23.1-py37h25d0782_0\n",
      "\n",
      "\n",
      "\n",
      "Downloading and Extracting Packages\n",
      "\n",
      "ca-certificates-2021 | 113 KB    |            |   0% \n",
      "ca-certificates-2021 | 113 KB    | ##8        |  28% \n",
      "ca-certificates-2021 | 113 KB    | ########## | 100% \n",
      "\n",
      "openssl-1.1.1l       | 4.8 MB    |            |   0% \n",
      "openssl-1.1.1l       | 4.8 MB    | 4          |   5% \n",
      "openssl-1.1.1l       | 4.8 MB    | #3         |  13% \n",
      "openssl-1.1.1l       | 4.8 MB    | ##1        |  21% \n",
      "openssl-1.1.1l       | 4.8 MB    | ##8        |  28% \n",
      "openssl-1.1.1l       | 4.8 MB    | ###7       |  37% \n",
      "openssl-1.1.1l       | 4.8 MB    | ####5      |  46% \n",
      "openssl-1.1.1l       | 4.8 MB    | #####3     |  53% \n",
      "openssl-1.1.1l       | 4.8 MB    | ######1    |  61% \n",
      "openssl-1.1.1l       | 4.8 MB    | ######9    |  70% \n",
      "openssl-1.1.1l       | 4.8 MB    | #######8   |  78% \n",
      "openssl-1.1.1l       | 4.8 MB    | ########6  |  87% \n",
      "openssl-1.1.1l       | 4.8 MB    | #########4 |  95% \n",
      "openssl-1.1.1l       | 4.8 MB    | ########## | 100% \n",
      "\n",
      "certifi-2021.5.30    | 139 KB    |            |   0% \n",
      "certifi-2021.5.30    | 139 KB    | ########## | 100% \n",
      "certifi-2021.5.30    | 139 KB    | ########## | 100% \n",
      "\n",
      "python-graphviz-0.16 | 20 KB     |            |   0% \n",
      "python-graphviz-0.16 | 20 KB     | ########## | 100% \n",
      "Preparing transaction: ...working... done\n",
      "Verifying transaction: ...working... done\n",
      "Executing transaction: ...working... done\n",
      "\n",
      "Note: you may need to restart the kernel to use updated packages.\n"
     ]
    },
    {
     "name": "stderr",
     "output_type": "stream",
     "text": [
      "\n",
      "\n",
      "==> WARNING: A newer version of conda exists. <==\n",
      "  current version: 4.9.2\n",
      "  latest version: 4.10.3\n",
      "\n",
      "Please update conda by running\n",
      "\n",
      "    $ conda update -n base -c defaults conda\n",
      "\n",
      "\n"
     ]
    }
   ],
   "source": [
    "conda install python-graphviz"
   ]
  },
  {
   "cell_type": "markdown",
   "id": "superb-ambassador",
   "metadata": {},
   "source": [
    "## Modelos de Clasificación\n",
    "\n",
    "En esta Notebook realizaremos una pequeña exploración, limpieza y visualización de un dataset y luego entrenaremos diferentes modelos a fin de comparar su perfomance.\n",
    "\n",
    "El dataset que utilizaremos es de Pinguinos donde se las variables predictoras son distintas características de los pinguinos y la variable a predecir es si son venenosos o no. Fue descargado de Kaggle: https://www.kaggle.com/parulpandey/palmer-archipelago-antarctica-penguin-data\n",
    "\n",
    "https://www.openml.org/d/42585\n"
   ]
  },
  {
   "cell_type": "code",
   "execution_count": 1,
   "id": "adopted-trailer",
   "metadata": {},
   "outputs": [],
   "source": [
    "#importamos las librerías que utilizaremos\n",
    "\n",
    "import pandas as pd\n",
    "import matplotlib.pyplot as plt\n",
    "import seaborn as sns"
   ]
  },
  {
   "cell_type": "code",
   "execution_count": 2,
   "id": "emerging-obligation",
   "metadata": {},
   "outputs": [],
   "source": [
    "data = pd.read_csv(\"penguins_size.csv\")"
   ]
  },
  {
   "cell_type": "code",
   "execution_count": 3,
   "id": "ethical-paper",
   "metadata": {},
   "outputs": [
    {
     "data": {
      "text/html": [
       "<div>\n",
       "<style scoped>\n",
       "    .dataframe tbody tr th:only-of-type {\n",
       "        vertical-align: middle;\n",
       "    }\n",
       "\n",
       "    .dataframe tbody tr th {\n",
       "        vertical-align: top;\n",
       "    }\n",
       "\n",
       "    .dataframe thead th {\n",
       "        text-align: right;\n",
       "    }\n",
       "</style>\n",
       "<table border=\"1\" class=\"dataframe\">\n",
       "  <thead>\n",
       "    <tr style=\"text-align: right;\">\n",
       "      <th></th>\n",
       "      <th>species</th>\n",
       "      <th>island</th>\n",
       "      <th>culmen_length_mm</th>\n",
       "      <th>culmen_depth_mm</th>\n",
       "      <th>flipper_length_mm</th>\n",
       "      <th>body_mass_g</th>\n",
       "      <th>sex</th>\n",
       "    </tr>\n",
       "  </thead>\n",
       "  <tbody>\n",
       "    <tr>\n",
       "      <th>0</th>\n",
       "      <td>Adelie</td>\n",
       "      <td>Torgersen</td>\n",
       "      <td>39.1</td>\n",
       "      <td>18.7</td>\n",
       "      <td>181.0</td>\n",
       "      <td>3750.0</td>\n",
       "      <td>MALE</td>\n",
       "    </tr>\n",
       "    <tr>\n",
       "      <th>1</th>\n",
       "      <td>Adelie</td>\n",
       "      <td>Torgersen</td>\n",
       "      <td>39.5</td>\n",
       "      <td>17.4</td>\n",
       "      <td>186.0</td>\n",
       "      <td>3800.0</td>\n",
       "      <td>FEMALE</td>\n",
       "    </tr>\n",
       "    <tr>\n",
       "      <th>2</th>\n",
       "      <td>Adelie</td>\n",
       "      <td>Torgersen</td>\n",
       "      <td>40.3</td>\n",
       "      <td>18.0</td>\n",
       "      <td>195.0</td>\n",
       "      <td>3250.0</td>\n",
       "      <td>FEMALE</td>\n",
       "    </tr>\n",
       "  </tbody>\n",
       "</table>\n",
       "</div>"
      ],
      "text/plain": [
       "  species     island  culmen_length_mm  culmen_depth_mm  flipper_length_mm  \\\n",
       "0  Adelie  Torgersen              39.1             18.7              181.0   \n",
       "1  Adelie  Torgersen              39.5             17.4              186.0   \n",
       "2  Adelie  Torgersen              40.3             18.0              195.0   \n",
       "\n",
       "   body_mass_g     sex  \n",
       "0       3750.0    MALE  \n",
       "1       3800.0  FEMALE  \n",
       "2       3250.0  FEMALE  "
      ]
     },
     "execution_count": 3,
     "metadata": {},
     "output_type": "execute_result"
    }
   ],
   "source": [
    "#vemos los primeros 3 registros\n",
    "data.head(3)"
   ]
  },
  {
   "cell_type": "code",
   "execution_count": 4,
   "id": "bound-makeup",
   "metadata": {},
   "outputs": [
    {
     "data": {
      "text/plain": [
       "(344, 7)"
      ]
     },
     "execution_count": 4,
     "metadata": {},
     "output_type": "execute_result"
    }
   ],
   "source": [
    "#vemos el tamaño del dataset \n",
    "\n",
    "data.shape"
   ]
  },
  {
   "cell_type": "code",
   "execution_count": 5,
   "id": "constant-definition",
   "metadata": {},
   "outputs": [
    {
     "data": {
      "text/plain": [
       "Index(['species', 'island', 'culmen_length_mm', 'culmen_depth_mm',\n",
       "       'flipper_length_mm', 'body_mass_g', 'sex'],\n",
       "      dtype='object')"
      ]
     },
     "execution_count": 5,
     "metadata": {},
     "output_type": "execute_result"
    }
   ],
   "source": [
    "data.columns"
   ]
  },
  {
   "cell_type": "markdown",
   "id": "specialized-honolulu",
   "metadata": {},
   "source": [
    "**species**: especies de pingüinos (Chinstrap, Adelia o Gentoo)\n",
    "\n",
    "**culmen_length_mm**: longitud del culmen (mm)\n",
    "\n",
    "**culmen_depth_mm**: profundidad del culmen (mm)\n",
    "\n",
    "**flipper_length_mm**: longitud de la aleta (mm)\n",
    "\n",
    "**body_mass_g**: masa corporal (g)\n",
    "\n",
    "**island**: nombre de la isla (Dream, Torgersen o Biscoe) en el archipiélago de Palmer (Antártida)\n",
    "\n",
    "**sex**: sexo pingüino"
   ]
  },
  {
   "cell_type": "code",
   "execution_count": 6,
   "id": "surface-geology",
   "metadata": {},
   "outputs": [
    {
     "data": {
      "text/plain": [
       "species               0\n",
       "island                0\n",
       "culmen_length_mm      2\n",
       "culmen_depth_mm       2\n",
       "flipper_length_mm     2\n",
       "body_mass_g           2\n",
       "sex                  10\n",
       "dtype: int64"
      ]
     },
     "execution_count": 6,
     "metadata": {},
     "output_type": "execute_result"
    }
   ],
   "source": [
    "#vemos si hay datos nulos\n",
    "\n",
    "data.isnull().sum()"
   ]
  },
  {
   "cell_type": "code",
   "execution_count": 7,
   "id": "inclusive-vietnamese",
   "metadata": {},
   "outputs": [
    {
     "name": "stdout",
     "output_type": "stream",
     "text": [
      "<class 'pandas.core.frame.DataFrame'>\n",
      "RangeIndex: 344 entries, 0 to 343\n",
      "Data columns (total 7 columns):\n",
      " #   Column             Non-Null Count  Dtype  \n",
      "---  ------             --------------  -----  \n",
      " 0   species            344 non-null    object \n",
      " 1   island             344 non-null    object \n",
      " 2   culmen_length_mm   342 non-null    float64\n",
      " 3   culmen_depth_mm    342 non-null    float64\n",
      " 4   flipper_length_mm  342 non-null    float64\n",
      " 5   body_mass_g        342 non-null    float64\n",
      " 6   sex                334 non-null    object \n",
      "dtypes: float64(4), object(3)\n",
      "memory usage: 18.9+ KB\n"
     ]
    }
   ],
   "source": [
    "data.info()"
   ]
  },
  {
   "cell_type": "markdown",
   "id": "unavailable-workshop",
   "metadata": {},
   "source": [
    "##### Variable species (Especies): target"
   ]
  },
  {
   "cell_type": "code",
   "execution_count": 8,
   "id": "orange-fruit",
   "metadata": {},
   "outputs": [
    {
     "data": {
      "text/plain": [
       "Adelie       152\n",
       "Gentoo       124\n",
       "Chinstrap     68\n",
       "Name: species, dtype: int64"
      ]
     },
     "execution_count": 8,
     "metadata": {},
     "output_type": "execute_result"
    }
   ],
   "source": [
    "#Distribución de la variable target\n",
    "\n",
    "data[\"species\"].value_counts()"
   ]
  },
  {
   "cell_type": "code",
   "execution_count": 9,
   "id": "controlled-product",
   "metadata": {},
   "outputs": [
    {
     "data": {
      "text/plain": [
       "<AxesSubplot:xlabel='species', ylabel='count'>"
      ]
     },
     "execution_count": 9,
     "metadata": {},
     "output_type": "execute_result"
    },
    {
     "data": {
      "image/png": "[encoded data removed]",
      "text/plain": [
       "<Figure size 432x288 with 1 Axes>"
      ]
     },
     "metadata": {
      "needs_background": "light"
     },
     "output_type": "display_data"
    }
   ],
   "source": [
    "# visualización de variable a predecir\n",
    "\n",
    "sns.countplot(data[\"species\"])"
   ]
  },
  {
   "cell_type": "markdown",
   "id": "unlikely-minutes",
   "metadata": {},
   "source": [
    "##### variables numéricas\n",
    "\n",
    "Vamos a ver las características de las variables numércias para ver si tienen sentido sus valores y sus distribuciones"
   ]
  },
  {
   "cell_type": "code",
   "execution_count": 10,
   "id": "deadly-binary",
   "metadata": {},
   "outputs": [
    {
     "data": {
      "text/plain": [
       "species               object\n",
       "island                object\n",
       "culmen_length_mm     float64\n",
       "culmen_depth_mm      float64\n",
       "flipper_length_mm    float64\n",
       "body_mass_g          float64\n",
       "sex                   object\n",
       "dtype: object"
      ]
     },
     "execution_count": 10,
     "metadata": {},
     "output_type": "execute_result"
    }
   ],
   "source": [
    "data.dtypes"
   ]
  },
  {
   "cell_type": "code",
   "execution_count": 11,
   "id": "fuzzy-shell",
   "metadata": {},
   "outputs": [
    {
     "data": {
      "text/html": [
       "<div>\n",
       "<style scoped>\n",
       "    .dataframe tbody tr th:only-of-type {\n",
       "        vertical-align: middle;\n",
       "    }\n",
       "\n",
       "    .dataframe tbody tr th {\n",
       "        vertical-align: top;\n",
       "    }\n",
       "\n",
       "    .dataframe thead th {\n",
       "        text-align: right;\n",
       "    }\n",
       "</style>\n",
       "<table border=\"1\" class=\"dataframe\">\n",
       "  <thead>\n",
       "    <tr style=\"text-align: right;\">\n",
       "      <th></th>\n",
       "      <th>culmen_length_mm</th>\n",
       "      <th>culmen_depth_mm</th>\n",
       "      <th>flipper_length_mm</th>\n",
       "      <th>body_mass_g</th>\n",
       "    </tr>\n",
       "  </thead>\n",
       "  <tbody>\n",
       "    <tr>\n",
       "      <th>count</th>\n",
       "      <td>342.000000</td>\n",
       "      <td>342.000000</td>\n",
       "      <td>342.000000</td>\n",
       "      <td>342.000000</td>\n",
       "    </tr>\n",
       "    <tr>\n",
       "      <th>mean</th>\n",
       "      <td>43.921930</td>\n",
       "      <td>17.151170</td>\n",
       "      <td>200.915205</td>\n",
       "      <td>4201.754386</td>\n",
       "    </tr>\n",
       "    <tr>\n",
       "      <th>std</th>\n",
       "      <td>5.459584</td>\n",
       "      <td>1.974793</td>\n",
       "      <td>14.061714</td>\n",
       "      <td>801.954536</td>\n",
       "    </tr>\n",
       "    <tr>\n",
       "      <th>min</th>\n",
       "      <td>32.100000</td>\n",
       "      <td>13.100000</td>\n",
       "      <td>172.000000</td>\n",
       "      <td>2700.000000</td>\n",
       "    </tr>\n",
       "    <tr>\n",
       "      <th>25%</th>\n",
       "      <td>39.225000</td>\n",
       "      <td>15.600000</td>\n",
       "      <td>190.000000</td>\n",
       "      <td>3550.000000</td>\n",
       "    </tr>\n",
       "    <tr>\n",
       "      <th>50%</th>\n",
       "      <td>44.450000</td>\n",
       "      <td>17.300000</td>\n",
       "      <td>197.000000</td>\n",
       "      <td>4050.000000</td>\n",
       "    </tr>\n",
       "    <tr>\n",
       "      <th>75%</th>\n",
       "      <td>48.500000</td>\n",
       "      <td>18.700000</td>\n",
       "      <td>213.000000</td>\n",
       "      <td>4750.000000</td>\n",
       "    </tr>\n",
       "    <tr>\n",
       "      <th>max</th>\n",
       "      <td>59.600000</td>\n",
       "      <td>21.500000</td>\n",
       "      <td>231.000000</td>\n",
       "      <td>6300.000000</td>\n",
       "    </tr>\n",
       "  </tbody>\n",
       "</table>\n",
       "</div>"
      ],
      "text/plain": [
       "       culmen_length_mm  culmen_depth_mm  flipper_length_mm  body_mass_g\n",
       "count        342.000000       342.000000         342.000000   342.000000\n",
       "mean          43.921930        17.151170         200.915205  4201.754386\n",
       "std            5.459584         1.974793          14.061714   801.954536\n",
       "min           32.100000        13.100000         172.000000  2700.000000\n",
       "25%           39.225000        15.600000         190.000000  3550.000000\n",
       "50%           44.450000        17.300000         197.000000  4050.000000\n",
       "75%           48.500000        18.700000         213.000000  4750.000000\n",
       "max           59.600000        21.500000         231.000000  6300.000000"
      ]
     },
     "execution_count": 11,
     "metadata": {},
     "output_type": "execute_result"
    }
   ],
   "source": [
    "data.describe()"
   ]
  },
  {
   "cell_type": "markdown",
   "id": "extreme-spider",
   "metadata": {},
   "source": [
    "##### variable culmen_length_mm\n",
    "\n",
    "Largo de pico"
   ]
  },
  {
   "cell_type": "code",
   "execution_count": 12,
   "id": "deluxe-subscriber",
   "metadata": {},
   "outputs": [
    {
     "data": {
      "text/plain": [
       "0      False\n",
       "1      False\n",
       "2      False\n",
       "3       True\n",
       "4      False\n",
       "       ...  \n",
       "339     True\n",
       "340    False\n",
       "341    False\n",
       "342    False\n",
       "343    False\n",
       "Name: culmen_length_mm, Length: 344, dtype: bool"
      ]
     },
     "execution_count": 12,
     "metadata": {},
     "output_type": "execute_result"
    }
   ],
   "source": [
    "#vemos cuales son los registros con datos nulos. Hacemos un filtro para observarlos\n",
    "\n",
    "mask_nulos =data[\"culmen_length_mm\"].isnull()\n",
    "mask_nulos"
   ]
  },
  {
   "cell_type": "code",
   "execution_count": 13,
   "id": "encouraging-cleveland",
   "metadata": {},
   "outputs": [
    {
     "data": {
      "text/html": [
       "<div>\n",
       "<style scoped>\n",
       "    .dataframe tbody tr th:only-of-type {\n",
       "        vertical-align: middle;\n",
       "    }\n",
       "\n",
       "    .dataframe tbody tr th {\n",
       "        vertical-align: top;\n",
       "    }\n",
       "\n",
       "    .dataframe thead th {\n",
       "        text-align: right;\n",
       "    }\n",
       "</style>\n",
       "<table border=\"1\" class=\"dataframe\">\n",
       "  <thead>\n",
       "    <tr style=\"text-align: right;\">\n",
       "      <th></th>\n",
       "      <th>species</th>\n",
       "      <th>island</th>\n",
       "      <th>culmen_length_mm</th>\n",
       "      <th>culmen_depth_mm</th>\n",
       "      <th>flipper_length_mm</th>\n",
       "      <th>body_mass_g</th>\n",
       "      <th>sex</th>\n",
       "    </tr>\n",
       "  </thead>\n",
       "  <tbody>\n",
       "    <tr>\n",
       "      <th>3</th>\n",
       "      <td>Adelie</td>\n",
       "      <td>Torgersen</td>\n",
       "      <td>NaN</td>\n",
       "      <td>NaN</td>\n",
       "      <td>NaN</td>\n",
       "      <td>NaN</td>\n",
       "      <td>NaN</td>\n",
       "    </tr>\n",
       "    <tr>\n",
       "      <th>339</th>\n",
       "      <td>Gentoo</td>\n",
       "      <td>Biscoe</td>\n",
       "      <td>NaN</td>\n",
       "      <td>NaN</td>\n",
       "      <td>NaN</td>\n",
       "      <td>NaN</td>\n",
       "      <td>NaN</td>\n",
       "    </tr>\n",
       "  </tbody>\n",
       "</table>\n",
       "</div>"
      ],
      "text/plain": [
       "    species     island  culmen_length_mm  culmen_depth_mm  flipper_length_mm  \\\n",
       "3    Adelie  Torgersen               NaN              NaN                NaN   \n",
       "339  Gentoo     Biscoe               NaN              NaN                NaN   \n",
       "\n",
       "     body_mass_g  sex  \n",
       "3            NaN  NaN  \n",
       "339          NaN  NaN  "
      ]
     },
     "execution_count": 13,
     "metadata": {},
     "output_type": "execute_result"
    }
   ],
   "source": [
    "data.loc[mask_nulos]"
   ]
  },
  {
   "cell_type": "markdown",
   "id": "cleared-photograph",
   "metadata": {},
   "source": [
    "Se observa que los regitros que tienen nulo culmen_legth_mm también tienen nulos en culmen_depth_mm, flipper_length_mm, body_mass_g y sex por lo que se define quitar los registros utilizando el método dropna\n",
    "\n",
    "https://pandas.pydata.org/pandas-docs/stable/reference/api/pandas.DataFrame.dropna.html"
   ]
  },
  {
   "cell_type": "code",
   "execution_count": 14,
   "id": "comprehensive-prescription",
   "metadata": {},
   "outputs": [
    {
     "data": {
      "text/plain": [
       "(344, 7)"
      ]
     },
     "execution_count": 14,
     "metadata": {},
     "output_type": "execute_result"
    }
   ],
   "source": [
    "# revisamos el tamaño del dataset\n",
    "\n",
    "data.shape"
   ]
  },
  {
   "cell_type": "code",
   "execution_count": 15,
   "id": "solid-atlas",
   "metadata": {},
   "outputs": [],
   "source": [
    "data.dropna(subset = [\"culmen_length_mm\"], inplace = True)\n"
   ]
  },
  {
   "cell_type": "code",
   "execution_count": 16,
   "id": "apparent-queue",
   "metadata": {},
   "outputs": [
    {
     "data": {
      "text/plain": [
       "(342, 7)"
      ]
     },
     "execution_count": 16,
     "metadata": {},
     "output_type": "execute_result"
    }
   ],
   "source": [
    "# revisamos el tamaño del dataset\n",
    "\n",
    "data.shape"
   ]
  },
  {
   "cell_type": "code",
   "execution_count": 17,
   "id": "premier-parking",
   "metadata": {},
   "outputs": [
    {
     "data": {
      "text/plain": [
       "species              0\n",
       "island               0\n",
       "culmen_length_mm     0\n",
       "culmen_depth_mm      0\n",
       "flipper_length_mm    0\n",
       "body_mass_g          0\n",
       "sex                  8\n",
       "dtype: int64"
      ]
     },
     "execution_count": 17,
     "metadata": {},
     "output_type": "execute_result"
    }
   ],
   "source": [
    "# revisamos los datos nulos luego de la operación\n",
    "\n",
    "data.isnull().sum()"
   ]
  },
  {
   "cell_type": "code",
   "execution_count": 18,
   "id": "destroyed-composer",
   "metadata": {},
   "outputs": [
    {
     "data": {
      "text/plain": [
       "<AxesSubplot:xlabel='culmen_length_mm'>"
      ]
     },
     "execution_count": 18,
     "metadata": {},
     "output_type": "execute_result"
    },
    {
     "data": {
      "image/png": "[encoded data removed]",
      "text/plain": [
       "<Figure size 432x288 with 1 Axes>"
      ]
     },
     "metadata": {
      "needs_background": "light"
     },
     "output_type": "display_data"
    }
   ],
   "source": [
    "#Visulizamos la variable. Usamos displot porque es una variable numérica\n",
    "\n",
    "sns.distplot(data[\"culmen_length_mm\"])"
   ]
  },
  {
   "cell_type": "code",
   "execution_count": 19,
   "id": "monthly-lesbian",
   "metadata": {},
   "outputs": [
    {
     "ename": "AttributeError",
     "evalue": "module 'seaborn' has no attribute 'displot'",
     "output_type": "error",
     "traceback": [
      "\u001b[1;31m---------------------------------------------------------------------------\u001b[0m",
      "\u001b[1;31mAttributeError\u001b[0m                            Traceback (most recent call last)",
      "\u001b[1;32m<ipython-input-19-84885f7aa21e>\u001b[0m in \u001b[0;36m<module>\u001b[1;34m\u001b[0m\n\u001b[1;32m----> 1\u001b[1;33m \u001b[0msns\u001b[0m\u001b[1;33m.\u001b[0m\u001b[0mdisplot\u001b[0m\u001b[1;33m(\u001b[0m\u001b[0mdata\u001b[0m\u001b[1;33m,\u001b[0m \u001b[0mx\u001b[0m\u001b[1;33m=\u001b[0m\u001b[1;34m\"culmen_length_mm\"\u001b[0m\u001b[1;33m,\u001b[0m \u001b[0mrow\u001b[0m\u001b[1;33m=\u001b[0m\u001b[1;34m\"species\"\u001b[0m\u001b[1;33m)\u001b[0m\u001b[1;33m\u001b[0m\u001b[1;33m\u001b[0m\u001b[0m\n\u001b[0m",
      "\u001b[1;31mAttributeError\u001b[0m: module 'seaborn' has no attribute 'displot'"
     ]
    }
   ],
   "source": [
    "sns.displot(data, x=\"culmen_length_mm\", row=\"species\")"
   ]
  },
  {
   "cell_type": "code",
   "execution_count": 20,
   "id": "aware-sheep",
   "metadata": {},
   "outputs": [
    {
     "ename": "AttributeError",
     "evalue": "module 'seaborn' has no attribute 'displot'",
     "output_type": "error",
     "traceback": [
      "\u001b[1;31m---------------------------------------------------------------------------\u001b[0m",
      "\u001b[1;31mAttributeError\u001b[0m                            Traceback (most recent call last)",
      "\u001b[1;32m<ipython-input-20-64e8202d93bd>\u001b[0m in \u001b[0;36m<module>\u001b[1;34m\u001b[0m\n\u001b[1;32m----> 1\u001b[1;33m \u001b[0msns\u001b[0m\u001b[1;33m.\u001b[0m\u001b[0mdisplot\u001b[0m\u001b[1;33m(\u001b[0m\u001b[0mdata\u001b[0m\u001b[1;33m,\u001b[0m \u001b[0mx\u001b[0m\u001b[1;33m=\u001b[0m\u001b[1;34m\"body_mass_g\"\u001b[0m\u001b[1;33m,\u001b[0m \u001b[0mrow\u001b[0m\u001b[1;33m=\u001b[0m\u001b[1;34m\"species\"\u001b[0m\u001b[1;33m)\u001b[0m\u001b[1;33m\u001b[0m\u001b[1;33m\u001b[0m\u001b[0m\n\u001b[0m",
      "\u001b[1;31mAttributeError\u001b[0m: module 'seaborn' has no attribute 'displot'"
     ]
    }
   ],
   "source": [
    "sns.displot(data, x=\"body_mass_g\", row=\"species\")"
   ]
  },
  {
   "cell_type": "markdown",
   "id": "awful-liquid",
   "metadata": {},
   "source": [
    "##### Variable sex\n",
    "\n",
    "Vamos a observar los valores nulos y qué categorías toma para ver como codificarla como variable numérica. También observaremos la relación con la variable especies"
   ]
  },
  {
   "cell_type": "code",
   "execution_count": 21,
   "id": "governmental-october",
   "metadata": {},
   "outputs": [
    {
     "data": {
      "text/plain": [
       "array(['MALE', 'FEMALE', nan, '.'], dtype=object)"
      ]
     },
     "execution_count": 21,
     "metadata": {},
     "output_type": "execute_result"
    }
   ],
   "source": [
    "# Ver que categorías tomas\n",
    "\n",
    "data[\"sex\"].unique()"
   ]
  },
  {
   "cell_type": "code",
   "execution_count": 22,
   "id": "optional-funeral",
   "metadata": {},
   "outputs": [
    {
     "data": {
      "text/plain": [
       "MALE      168\n",
       "FEMALE    165\n",
       ".           1\n",
       "Name: sex, dtype: int64"
      ]
     },
     "execution_count": 22,
     "metadata": {},
     "output_type": "execute_result"
    }
   ],
   "source": [
    "# Ver cuantos registros de cada cateogría\n",
    "\n",
    "data[\"sex\"].value_counts()"
   ]
  },
  {
   "cell_type": "code",
   "execution_count": 23,
   "id": "excellent-supplement",
   "metadata": {},
   "outputs": [
    {
     "data": {
      "text/plain": [
       "9"
      ]
     },
     "execution_count": 23,
     "metadata": {},
     "output_type": "execute_result"
    }
   ],
   "source": [
    "# Filtrar los valores nulos y el valor \".\"\" para ver esos registros\n",
    "\n",
    "mask_sex = (data[\"sex\"].isnull()) | (data[\"sex\"]==\".\")\n",
    "mask_sex.sum()"
   ]
  },
  {
   "cell_type": "code",
   "execution_count": 24,
   "id": "retained-auckland",
   "metadata": {},
   "outputs": [
    {
     "data": {
      "text/html": [
       "<div>\n",
       "<style scoped>\n",
       "    .dataframe tbody tr th:only-of-type {\n",
       "        vertical-align: middle;\n",
       "    }\n",
       "\n",
       "    .dataframe tbody tr th {\n",
       "        vertical-align: top;\n",
       "    }\n",
       "\n",
       "    .dataframe thead th {\n",
       "        text-align: right;\n",
       "    }\n",
       "</style>\n",
       "<table border=\"1\" class=\"dataframe\">\n",
       "  <thead>\n",
       "    <tr style=\"text-align: right;\">\n",
       "      <th></th>\n",
       "      <th>species</th>\n",
       "      <th>island</th>\n",
       "      <th>culmen_length_mm</th>\n",
       "      <th>culmen_depth_mm</th>\n",
       "      <th>flipper_length_mm</th>\n",
       "      <th>body_mass_g</th>\n",
       "      <th>sex</th>\n",
       "    </tr>\n",
       "  </thead>\n",
       "  <tbody>\n",
       "    <tr>\n",
       "      <th>8</th>\n",
       "      <td>Adelie</td>\n",
       "      <td>Torgersen</td>\n",
       "      <td>34.1</td>\n",
       "      <td>18.1</td>\n",
       "      <td>193.0</td>\n",
       "      <td>3475.0</td>\n",
       "      <td>NaN</td>\n",
       "    </tr>\n",
       "    <tr>\n",
       "      <th>9</th>\n",
       "      <td>Adelie</td>\n",
       "      <td>Torgersen</td>\n",
       "      <td>42.0</td>\n",
       "      <td>20.2</td>\n",
       "      <td>190.0</td>\n",
       "      <td>4250.0</td>\n",
       "      <td>NaN</td>\n",
       "    </tr>\n",
       "    <tr>\n",
       "      <th>10</th>\n",
       "      <td>Adelie</td>\n",
       "      <td>Torgersen</td>\n",
       "      <td>37.8</td>\n",
       "      <td>17.1</td>\n",
       "      <td>186.0</td>\n",
       "      <td>3300.0</td>\n",
       "      <td>NaN</td>\n",
       "    </tr>\n",
       "    <tr>\n",
       "      <th>11</th>\n",
       "      <td>Adelie</td>\n",
       "      <td>Torgersen</td>\n",
       "      <td>37.8</td>\n",
       "      <td>17.3</td>\n",
       "      <td>180.0</td>\n",
       "      <td>3700.0</td>\n",
       "      <td>NaN</td>\n",
       "    </tr>\n",
       "    <tr>\n",
       "      <th>47</th>\n",
       "      <td>Adelie</td>\n",
       "      <td>Dream</td>\n",
       "      <td>37.5</td>\n",
       "      <td>18.9</td>\n",
       "      <td>179.0</td>\n",
       "      <td>2975.0</td>\n",
       "      <td>NaN</td>\n",
       "    </tr>\n",
       "    <tr>\n",
       "      <th>246</th>\n",
       "      <td>Gentoo</td>\n",
       "      <td>Biscoe</td>\n",
       "      <td>44.5</td>\n",
       "      <td>14.3</td>\n",
       "      <td>216.0</td>\n",
       "      <td>4100.0</td>\n",
       "      <td>NaN</td>\n",
       "    </tr>\n",
       "    <tr>\n",
       "      <th>286</th>\n",
       "      <td>Gentoo</td>\n",
       "      <td>Biscoe</td>\n",
       "      <td>46.2</td>\n",
       "      <td>14.4</td>\n",
       "      <td>214.0</td>\n",
       "      <td>4650.0</td>\n",
       "      <td>NaN</td>\n",
       "    </tr>\n",
       "    <tr>\n",
       "      <th>324</th>\n",
       "      <td>Gentoo</td>\n",
       "      <td>Biscoe</td>\n",
       "      <td>47.3</td>\n",
       "      <td>13.8</td>\n",
       "      <td>216.0</td>\n",
       "      <td>4725.0</td>\n",
       "      <td>NaN</td>\n",
       "    </tr>\n",
       "    <tr>\n",
       "      <th>336</th>\n",
       "      <td>Gentoo</td>\n",
       "      <td>Biscoe</td>\n",
       "      <td>44.5</td>\n",
       "      <td>15.7</td>\n",
       "      <td>217.0</td>\n",
       "      <td>4875.0</td>\n",
       "      <td>.</td>\n",
       "    </tr>\n",
       "  </tbody>\n",
       "</table>\n",
       "</div>"
      ],
      "text/plain": [
       "    species     island  culmen_length_mm  culmen_depth_mm  flipper_length_mm  \\\n",
       "8    Adelie  Torgersen              34.1             18.1              193.0   \n",
       "9    Adelie  Torgersen              42.0             20.2              190.0   \n",
       "10   Adelie  Torgersen              37.8             17.1              186.0   \n",
       "11   Adelie  Torgersen              37.8             17.3              180.0   \n",
       "47   Adelie      Dream              37.5             18.9              179.0   \n",
       "246  Gentoo     Biscoe              44.5             14.3              216.0   \n",
       "286  Gentoo     Biscoe              46.2             14.4              214.0   \n",
       "324  Gentoo     Biscoe              47.3             13.8              216.0   \n",
       "336  Gentoo     Biscoe              44.5             15.7              217.0   \n",
       "\n",
       "     body_mass_g  sex  \n",
       "8         3475.0  NaN  \n",
       "9         4250.0  NaN  \n",
       "10        3300.0  NaN  \n",
       "11        3700.0  NaN  \n",
       "47        2975.0  NaN  \n",
       "246       4100.0  NaN  \n",
       "286       4650.0  NaN  \n",
       "324       4725.0  NaN  \n",
       "336       4875.0    .  "
      ]
     },
     "execution_count": 24,
     "metadata": {},
     "output_type": "execute_result"
    }
   ],
   "source": [
    "data.loc[mask_sex]"
   ]
  },
  {
   "cell_type": "code",
   "execution_count": 25,
   "id": "logical-launch",
   "metadata": {},
   "outputs": [
    {
     "data": {
      "text/html": [
       "<div>\n",
       "<style scoped>\n",
       "    .dataframe tbody tr th:only-of-type {\n",
       "        vertical-align: middle;\n",
       "    }\n",
       "\n",
       "    .dataframe tbody tr th {\n",
       "        vertical-align: top;\n",
       "    }\n",
       "\n",
       "    .dataframe thead th {\n",
       "        text-align: right;\n",
       "    }\n",
       "</style>\n",
       "<table border=\"1\" class=\"dataframe\">\n",
       "  <thead>\n",
       "    <tr style=\"text-align: right;\">\n",
       "      <th></th>\n",
       "      <th>sex</th>\n",
       "    </tr>\n",
       "  </thead>\n",
       "  <tbody>\n",
       "    <tr>\n",
       "      <th>8</th>\n",
       "      <td>NaN</td>\n",
       "    </tr>\n",
       "    <tr>\n",
       "      <th>9</th>\n",
       "      <td>NaN</td>\n",
       "    </tr>\n",
       "    <tr>\n",
       "      <th>10</th>\n",
       "      <td>NaN</td>\n",
       "    </tr>\n",
       "    <tr>\n",
       "      <th>11</th>\n",
       "      <td>NaN</td>\n",
       "    </tr>\n",
       "    <tr>\n",
       "      <th>47</th>\n",
       "      <td>NaN</td>\n",
       "    </tr>\n",
       "    <tr>\n",
       "      <th>246</th>\n",
       "      <td>NaN</td>\n",
       "    </tr>\n",
       "    <tr>\n",
       "      <th>286</th>\n",
       "      <td>NaN</td>\n",
       "    </tr>\n",
       "    <tr>\n",
       "      <th>324</th>\n",
       "      <td>NaN</td>\n",
       "    </tr>\n",
       "    <tr>\n",
       "      <th>336</th>\n",
       "      <td>.</td>\n",
       "    </tr>\n",
       "  </tbody>\n",
       "</table>\n",
       "</div>"
      ],
      "text/plain": [
       "     sex\n",
       "8    NaN\n",
       "9    NaN\n",
       "10   NaN\n",
       "11   NaN\n",
       "47   NaN\n",
       "246  NaN\n",
       "286  NaN\n",
       "324  NaN\n",
       "336    ."
      ]
     },
     "execution_count": 25,
     "metadata": {},
     "output_type": "execute_result"
    }
   ],
   "source": [
    "data.loc[mask_sex, [\"sex\"]]"
   ]
  },
  {
   "cell_type": "code",
   "execution_count": 26,
   "id": "disabled-driver",
   "metadata": {},
   "outputs": [],
   "source": [
    "# Vamos a imputar los valores como \"MALE\"\n",
    "\n",
    "# to_replace: Selección del dataset, value= porque valor lo vamos a reemplazar\n",
    "\n",
    "data.replace(to_replace=data.loc[mask_sex, [\"sex\"]], value=\"MALE\", inplace=True)\n"
   ]
  },
  {
   "cell_type": "code",
   "execution_count": 27,
   "id": "italian-plymouth",
   "metadata": {},
   "outputs": [
    {
     "data": {
      "text/plain": [
       "array(['MALE', 'FEMALE'], dtype=object)"
      ]
     },
     "execution_count": 27,
     "metadata": {},
     "output_type": "execute_result"
    }
   ],
   "source": [
    "# verificamos que se realizó correctamente la opreación\n",
    "\n",
    "data[\"sex\"].unique()"
   ]
  },
  {
   "cell_type": "code",
   "execution_count": 28,
   "id": "secondary-thong",
   "metadata": {},
   "outputs": [
    {
     "data": {
      "text/plain": [
       "0"
      ]
     },
     "execution_count": 28,
     "metadata": {},
     "output_type": "execute_result"
    }
   ],
   "source": [
    "data[\"sex\"].isnull().sum()"
   ]
  },
  {
   "cell_type": "code",
   "execution_count": 29,
   "id": "painful-eleven",
   "metadata": {},
   "outputs": [
    {
     "data": {
      "text/plain": [
       "MALE      177\n",
       "FEMALE    165\n",
       "Name: sex, dtype: int64"
      ]
     },
     "execution_count": 29,
     "metadata": {},
     "output_type": "execute_result"
    }
   ],
   "source": [
    "data[\"sex\"].value_counts()"
   ]
  },
  {
   "cell_type": "code",
   "execution_count": 30,
   "id": "superb-dress",
   "metadata": {},
   "outputs": [
    {
     "data": {
      "text/plain": [
       "<AxesSubplot:xlabel='count', ylabel='sex'>"
      ]
     },
     "execution_count": 30,
     "metadata": {},
     "output_type": "execute_result"
    },
    {
     "data": {
      "image/png": "[encoded data removed]",
      "text/plain": [
       "<Figure size 432x288 with 1 Axes>"
      ]
     },
     "metadata": {
      "needs_background": "light"
     },
     "output_type": "display_data"
    }
   ],
   "source": [
    "# Ver relación entre variable sex y la variable especie\n",
    "\n",
    "sns.countplot(y=\"sex\", hue=\"species\", data=data)"
   ]
  },
  {
   "cell_type": "code",
   "execution_count": 31,
   "id": "greenhouse-guidance",
   "metadata": {},
   "outputs": [],
   "source": [
    "# Convertir en variable dummie utilizando un apply y una función anonima: lambda\n",
    "\n",
    "data[\"sex\"] = data[\"sex\"].apply(lambda x: 1 if x==\"FEMALE\" else 0)"
   ]
  },
  {
   "cell_type": "code",
   "execution_count": 32,
   "id": "integrated-backing",
   "metadata": {},
   "outputs": [
    {
     "data": {
      "text/plain": [
       "0    177\n",
       "1    165\n",
       "Name: sex, dtype: int64"
      ]
     },
     "execution_count": 32,
     "metadata": {},
     "output_type": "execute_result"
    }
   ],
   "source": [
    "data[\"sex\"].value_counts()"
   ]
  },
  {
   "cell_type": "markdown",
   "id": "ancient-width",
   "metadata": {},
   "source": [
    "##### Variable island"
   ]
  },
  {
   "cell_type": "code",
   "execution_count": 33,
   "id": "greater-jerusalem",
   "metadata": {},
   "outputs": [
    {
     "data": {
      "text/plain": [
       "array(['Torgersen', 'Biscoe', 'Dream'], dtype=object)"
      ]
     },
     "execution_count": 33,
     "metadata": {},
     "output_type": "execute_result"
    }
   ],
   "source": [
    "# qué categorías puede tener\n",
    "\n",
    "data[\"island\"].unique()"
   ]
  },
  {
   "cell_type": "code",
   "execution_count": 34,
   "id": "robust-politics",
   "metadata": {},
   "outputs": [
    {
     "data": {
      "text/plain": [
       "Biscoe       167\n",
       "Dream        124\n",
       "Torgersen     51\n",
       "Name: island, dtype: int64"
      ]
     },
     "execution_count": 34,
     "metadata": {},
     "output_type": "execute_result"
    }
   ],
   "source": [
    "# cuántos registros de cada categoría\n",
    "\n",
    "data[\"island\"].value_counts()"
   ]
  },
  {
   "cell_type": "code",
   "execution_count": 35,
   "id": "lucky-pillow",
   "metadata": {},
   "outputs": [
    {
     "data": {
      "text/plain": [
       "species    island   \n",
       "Adelie     Biscoe        44\n",
       "           Dream         56\n",
       "           Torgersen     51\n",
       "Chinstrap  Dream         68\n",
       "Gentoo     Biscoe       123\n",
       "Name: species, dtype: int64"
      ]
     },
     "execution_count": 35,
     "metadata": {},
     "output_type": "execute_result"
    }
   ],
   "source": [
    "#groupby para ver relación con variable target\n",
    "\n",
    "data.groupby([\"species\", \"island\"])[\"species\"].count()"
   ]
  },
  {
   "cell_type": "code",
   "execution_count": 36,
   "id": "reserved-ground",
   "metadata": {},
   "outputs": [
    {
     "data": {
      "text/plain": [
       "<AxesSubplot:xlabel='count', ylabel='island'>"
      ]
     },
     "execution_count": 36,
     "metadata": {},
     "output_type": "execute_result"
    },
    {
     "data": {
      "image/png": "[encoded data removed]",
      "text/plain": [
       "<Figure size 432x288 with 1 Axes>"
      ]
     },
     "metadata": {
      "needs_background": "light"
     },
     "output_type": "display_data"
    }
   ],
   "source": [
    "#Visualización para ver la relación con variable target\n",
    "\n",
    "sns.countplot(y=\"island\", hue=\"species\", data=data)"
   ]
  },
  {
   "cell_type": "code",
   "execution_count": 37,
   "id": "individual-pricing",
   "metadata": {},
   "outputs": [
    {
     "data": {
      "text/html": [
       "<div>\n",
       "<style scoped>\n",
       "    .dataframe tbody tr th:only-of-type {\n",
       "        vertical-align: middle;\n",
       "    }\n",
       "\n",
       "    .dataframe tbody tr th {\n",
       "        vertical-align: top;\n",
       "    }\n",
       "\n",
       "    .dataframe thead th {\n",
       "        text-align: right;\n",
       "    }\n",
       "</style>\n",
       "<table border=\"1\" class=\"dataframe\">\n",
       "  <thead>\n",
       "    <tr style=\"text-align: right;\">\n",
       "      <th></th>\n",
       "      <th>isla_Dream</th>\n",
       "      <th>isla_Torgersen</th>\n",
       "    </tr>\n",
       "  </thead>\n",
       "  <tbody>\n",
       "    <tr>\n",
       "      <th>0</th>\n",
       "      <td>0</td>\n",
       "      <td>1</td>\n",
       "    </tr>\n",
       "    <tr>\n",
       "      <th>1</th>\n",
       "      <td>0</td>\n",
       "      <td>1</td>\n",
       "    </tr>\n",
       "    <tr>\n",
       "      <th>2</th>\n",
       "      <td>0</td>\n",
       "      <td>1</td>\n",
       "    </tr>\n",
       "    <tr>\n",
       "      <th>4</th>\n",
       "      <td>0</td>\n",
       "      <td>1</td>\n",
       "    </tr>\n",
       "    <tr>\n",
       "      <th>5</th>\n",
       "      <td>0</td>\n",
       "      <td>1</td>\n",
       "    </tr>\n",
       "    <tr>\n",
       "      <th>...</th>\n",
       "      <td>...</td>\n",
       "      <td>...</td>\n",
       "    </tr>\n",
       "    <tr>\n",
       "      <th>338</th>\n",
       "      <td>0</td>\n",
       "      <td>0</td>\n",
       "    </tr>\n",
       "    <tr>\n",
       "      <th>340</th>\n",
       "      <td>0</td>\n",
       "      <td>0</td>\n",
       "    </tr>\n",
       "    <tr>\n",
       "      <th>341</th>\n",
       "      <td>0</td>\n",
       "      <td>0</td>\n",
       "    </tr>\n",
       "    <tr>\n",
       "      <th>342</th>\n",
       "      <td>0</td>\n",
       "      <td>0</td>\n",
       "    </tr>\n",
       "    <tr>\n",
       "      <th>343</th>\n",
       "      <td>0</td>\n",
       "      <td>0</td>\n",
       "    </tr>\n",
       "  </tbody>\n",
       "</table>\n",
       "<p>342 rows × 2 columns</p>\n",
       "</div>"
      ],
      "text/plain": [
       "     isla_Dream  isla_Torgersen\n",
       "0             0               1\n",
       "1             0               1\n",
       "2             0               1\n",
       "4             0               1\n",
       "5             0               1\n",
       "..          ...             ...\n",
       "338           0               0\n",
       "340           0               0\n",
       "341           0               0\n",
       "342           0               0\n",
       "343           0               0\n",
       "\n",
       "[342 rows x 2 columns]"
      ]
     },
     "execution_count": 37,
     "metadata": {},
     "output_type": "execute_result"
    }
   ],
   "source": [
    "# Dato que es una variable categórica nominal debemos convertirla en variable dummie\n",
    "#https://pandas.pydata.org/docs/reference/api/pandas.get_dummies.html\n",
    "\n",
    "# Argumentos por default\n",
    "pd.get_dummies(data[\"island\"])\n",
    "\n",
    "# se puede colocar un prefjo\n",
    "#pd.get_dummies(data[\"island\"], prefix=\"isla\")\n",
    "\n",
    "#se puede quitar una columna\n",
    "data_islas = pd.get_dummies(data[\"island\"], prefix=\"isla\", drop_first=True)\n",
    "data_islas"
   ]
  },
  {
   "cell_type": "code",
   "execution_count": 38,
   "id": "premier-theorem",
   "metadata": {},
   "outputs": [
    {
     "data": {
      "text/html": [
       "<div>\n",
       "<style scoped>\n",
       "    .dataframe tbody tr th:only-of-type {\n",
       "        vertical-align: middle;\n",
       "    }\n",
       "\n",
       "    .dataframe tbody tr th {\n",
       "        vertical-align: top;\n",
       "    }\n",
       "\n",
       "    .dataframe thead th {\n",
       "        text-align: right;\n",
       "    }\n",
       "</style>\n",
       "<table border=\"1\" class=\"dataframe\">\n",
       "  <thead>\n",
       "    <tr style=\"text-align: right;\">\n",
       "      <th></th>\n",
       "      <th>species</th>\n",
       "      <th>island</th>\n",
       "      <th>culmen_length_mm</th>\n",
       "      <th>culmen_depth_mm</th>\n",
       "      <th>flipper_length_mm</th>\n",
       "      <th>body_mass_g</th>\n",
       "      <th>sex</th>\n",
       "      <th>isla_Dream</th>\n",
       "      <th>isla_Torgersen</th>\n",
       "    </tr>\n",
       "  </thead>\n",
       "  <tbody>\n",
       "    <tr>\n",
       "      <th>0</th>\n",
       "      <td>Adelie</td>\n",
       "      <td>Torgersen</td>\n",
       "      <td>39.1</td>\n",
       "      <td>18.7</td>\n",
       "      <td>181.0</td>\n",
       "      <td>3750.0</td>\n",
       "      <td>0</td>\n",
       "      <td>0</td>\n",
       "      <td>1</td>\n",
       "    </tr>\n",
       "    <tr>\n",
       "      <th>1</th>\n",
       "      <td>Adelie</td>\n",
       "      <td>Torgersen</td>\n",
       "      <td>39.5</td>\n",
       "      <td>17.4</td>\n",
       "      <td>186.0</td>\n",
       "      <td>3800.0</td>\n",
       "      <td>1</td>\n",
       "      <td>0</td>\n",
       "      <td>1</td>\n",
       "    </tr>\n",
       "    <tr>\n",
       "      <th>2</th>\n",
       "      <td>Adelie</td>\n",
       "      <td>Torgersen</td>\n",
       "      <td>40.3</td>\n",
       "      <td>18.0</td>\n",
       "      <td>195.0</td>\n",
       "      <td>3250.0</td>\n",
       "      <td>1</td>\n",
       "      <td>0</td>\n",
       "      <td>1</td>\n",
       "    </tr>\n",
       "    <tr>\n",
       "      <th>4</th>\n",
       "      <td>Adelie</td>\n",
       "      <td>Torgersen</td>\n",
       "      <td>36.7</td>\n",
       "      <td>19.3</td>\n",
       "      <td>193.0</td>\n",
       "      <td>3450.0</td>\n",
       "      <td>1</td>\n",
       "      <td>0</td>\n",
       "      <td>1</td>\n",
       "    </tr>\n",
       "    <tr>\n",
       "      <th>5</th>\n",
       "      <td>Adelie</td>\n",
       "      <td>Torgersen</td>\n",
       "      <td>39.3</td>\n",
       "      <td>20.6</td>\n",
       "      <td>190.0</td>\n",
       "      <td>3650.0</td>\n",
       "      <td>0</td>\n",
       "      <td>0</td>\n",
       "      <td>1</td>\n",
       "    </tr>\n",
       "    <tr>\n",
       "      <th>...</th>\n",
       "      <td>...</td>\n",
       "      <td>...</td>\n",
       "      <td>...</td>\n",
       "      <td>...</td>\n",
       "      <td>...</td>\n",
       "      <td>...</td>\n",
       "      <td>...</td>\n",
       "      <td>...</td>\n",
       "      <td>...</td>\n",
       "    </tr>\n",
       "    <tr>\n",
       "      <th>338</th>\n",
       "      <td>Gentoo</td>\n",
       "      <td>Biscoe</td>\n",
       "      <td>47.2</td>\n",
       "      <td>13.7</td>\n",
       "      <td>214.0</td>\n",
       "      <td>4925.0</td>\n",
       "      <td>1</td>\n",
       "      <td>0</td>\n",
       "      <td>0</td>\n",
       "    </tr>\n",
       "    <tr>\n",
       "      <th>340</th>\n",
       "      <td>Gentoo</td>\n",
       "      <td>Biscoe</td>\n",
       "      <td>46.8</td>\n",
       "      <td>14.3</td>\n",
       "      <td>215.0</td>\n",
       "      <td>4850.0</td>\n",
       "      <td>1</td>\n",
       "      <td>0</td>\n",
       "      <td>0</td>\n",
       "    </tr>\n",
       "    <tr>\n",
       "      <th>341</th>\n",
       "      <td>Gentoo</td>\n",
       "      <td>Biscoe</td>\n",
       "      <td>50.4</td>\n",
       "      <td>15.7</td>\n",
       "      <td>222.0</td>\n",
       "      <td>5750.0</td>\n",
       "      <td>0</td>\n",
       "      <td>0</td>\n",
       "      <td>0</td>\n",
       "    </tr>\n",
       "    <tr>\n",
       "      <th>342</th>\n",
       "      <td>Gentoo</td>\n",
       "      <td>Biscoe</td>\n",
       "      <td>45.2</td>\n",
       "      <td>14.8</td>\n",
       "      <td>212.0</td>\n",
       "      <td>5200.0</td>\n",
       "      <td>1</td>\n",
       "      <td>0</td>\n",
       "      <td>0</td>\n",
       "    </tr>\n",
       "    <tr>\n",
       "      <th>343</th>\n",
       "      <td>Gentoo</td>\n",
       "      <td>Biscoe</td>\n",
       "      <td>49.9</td>\n",
       "      <td>16.1</td>\n",
       "      <td>213.0</td>\n",
       "      <td>5400.0</td>\n",
       "      <td>0</td>\n",
       "      <td>0</td>\n",
       "      <td>0</td>\n",
       "    </tr>\n",
       "  </tbody>\n",
       "</table>\n",
       "<p>342 rows × 9 columns</p>\n",
       "</div>"
      ],
      "text/plain": [
       "    species     island  culmen_length_mm  culmen_depth_mm  flipper_length_mm  \\\n",
       "0    Adelie  Torgersen              39.1             18.7              181.0   \n",
       "1    Adelie  Torgersen              39.5             17.4              186.0   \n",
       "2    Adelie  Torgersen              40.3             18.0              195.0   \n",
       "4    Adelie  Torgersen              36.7             19.3              193.0   \n",
       "5    Adelie  Torgersen              39.3             20.6              190.0   \n",
       "..      ...        ...               ...              ...                ...   \n",
       "338  Gentoo     Biscoe              47.2             13.7              214.0   \n",
       "340  Gentoo     Biscoe              46.8             14.3              215.0   \n",
       "341  Gentoo     Biscoe              50.4             15.7              222.0   \n",
       "342  Gentoo     Biscoe              45.2             14.8              212.0   \n",
       "343  Gentoo     Biscoe              49.9             16.1              213.0   \n",
       "\n",
       "     body_mass_g  sex  isla_Dream  isla_Torgersen  \n",
       "0         3750.0    0           0               1  \n",
       "1         3800.0    1           0               1  \n",
       "2         3250.0    1           0               1  \n",
       "4         3450.0    1           0               1  \n",
       "5         3650.0    0           0               1  \n",
       "..           ...  ...         ...             ...  \n",
       "338       4925.0    1           0               0  \n",
       "340       4850.0    1           0               0  \n",
       "341       5750.0    0           0               0  \n",
       "342       5200.0    1           0               0  \n",
       "343       5400.0    0           0               0  \n",
       "\n",
       "[342 rows x 9 columns]"
      ]
     },
     "execution_count": 38,
     "metadata": {},
     "output_type": "execute_result"
    }
   ],
   "source": [
    "#unimos con join la variable dummie a nuestro dataset\n",
    "\n",
    "data = data.join(data_islas)\n",
    "data"
   ]
  },
  {
   "cell_type": "code",
   "execution_count": 39,
   "id": "expressed-andorra",
   "metadata": {},
   "outputs": [],
   "source": [
    "# eliminamos la columna \"island\" ya que el dato ya se encuentra en las variables dummies creada\n",
    "\n",
    "data.drop(columns=\"island\", inplace=True)"
   ]
  },
  {
   "cell_type": "code",
   "execution_count": 40,
   "id": "economic-electron",
   "metadata": {},
   "outputs": [
    {
     "data": {
      "text/html": [
       "<div>\n",
       "<style scoped>\n",
       "    .dataframe tbody tr th:only-of-type {\n",
       "        vertical-align: middle;\n",
       "    }\n",
       "\n",
       "    .dataframe tbody tr th {\n",
       "        vertical-align: top;\n",
       "    }\n",
       "\n",
       "    .dataframe thead th {\n",
       "        text-align: right;\n",
       "    }\n",
       "</style>\n",
       "<table border=\"1\" class=\"dataframe\">\n",
       "  <thead>\n",
       "    <tr style=\"text-align: right;\">\n",
       "      <th></th>\n",
       "      <th>species</th>\n",
       "      <th>culmen_length_mm</th>\n",
       "      <th>culmen_depth_mm</th>\n",
       "      <th>flipper_length_mm</th>\n",
       "      <th>body_mass_g</th>\n",
       "      <th>sex</th>\n",
       "      <th>isla_Dream</th>\n",
       "      <th>isla_Torgersen</th>\n",
       "    </tr>\n",
       "  </thead>\n",
       "  <tbody>\n",
       "    <tr>\n",
       "      <th>0</th>\n",
       "      <td>Adelie</td>\n",
       "      <td>39.1</td>\n",
       "      <td>18.7</td>\n",
       "      <td>181.0</td>\n",
       "      <td>3750.0</td>\n",
       "      <td>0</td>\n",
       "      <td>0</td>\n",
       "      <td>1</td>\n",
       "    </tr>\n",
       "    <tr>\n",
       "      <th>1</th>\n",
       "      <td>Adelie</td>\n",
       "      <td>39.5</td>\n",
       "      <td>17.4</td>\n",
       "      <td>186.0</td>\n",
       "      <td>3800.0</td>\n",
       "      <td>1</td>\n",
       "      <td>0</td>\n",
       "      <td>1</td>\n",
       "    </tr>\n",
       "    <tr>\n",
       "      <th>2</th>\n",
       "      <td>Adelie</td>\n",
       "      <td>40.3</td>\n",
       "      <td>18.0</td>\n",
       "      <td>195.0</td>\n",
       "      <td>3250.0</td>\n",
       "      <td>1</td>\n",
       "      <td>0</td>\n",
       "      <td>1</td>\n",
       "    </tr>\n",
       "  </tbody>\n",
       "</table>\n",
       "</div>"
      ],
      "text/plain": [
       "  species  culmen_length_mm  culmen_depth_mm  flipper_length_mm  body_mass_g  \\\n",
       "0  Adelie              39.1             18.7              181.0       3750.0   \n",
       "1  Adelie              39.5             17.4              186.0       3800.0   \n",
       "2  Adelie              40.3             18.0              195.0       3250.0   \n",
       "\n",
       "   sex  isla_Dream  isla_Torgersen  \n",
       "0    0           0               1  \n",
       "1    1           0               1  \n",
       "2    1           0               1  "
      ]
     },
     "execution_count": 40,
     "metadata": {},
     "output_type": "execute_result"
    }
   ],
   "source": [
    "data.head(3)"
   ]
  },
  {
   "cell_type": "markdown",
   "id": "excessive-movement",
   "metadata": {},
   "source": [
    "#### Revisamos que nuestro DataFrame para entrenar modelos\n",
    "\n",
    "Tiene que estar correctamente definidas las variables y sus cateogrías\n",
    "\n",
    "No tiene que tener valores nulos\n",
    "\n",
    "No tiene que tener valores cateogóricos\n"
   ]
  },
  {
   "cell_type": "code",
   "execution_count": 41,
   "id": "brazilian-saturn",
   "metadata": {},
   "outputs": [
    {
     "data": {
      "text/html": [
       "<div>\n",
       "<style scoped>\n",
       "    .dataframe tbody tr th:only-of-type {\n",
       "        vertical-align: middle;\n",
       "    }\n",
       "\n",
       "    .dataframe tbody tr th {\n",
       "        vertical-align: top;\n",
       "    }\n",
       "\n",
       "    .dataframe thead th {\n",
       "        text-align: right;\n",
       "    }\n",
       "</style>\n",
       "<table border=\"1\" class=\"dataframe\">\n",
       "  <thead>\n",
       "    <tr style=\"text-align: right;\">\n",
       "      <th></th>\n",
       "      <th>species</th>\n",
       "      <th>culmen_length_mm</th>\n",
       "      <th>culmen_depth_mm</th>\n",
       "      <th>flipper_length_mm</th>\n",
       "      <th>body_mass_g</th>\n",
       "      <th>sex</th>\n",
       "      <th>isla_Dream</th>\n",
       "      <th>isla_Torgersen</th>\n",
       "    </tr>\n",
       "  </thead>\n",
       "  <tbody>\n",
       "    <tr>\n",
       "      <th>0</th>\n",
       "      <td>Adelie</td>\n",
       "      <td>39.1</td>\n",
       "      <td>18.7</td>\n",
       "      <td>181.0</td>\n",
       "      <td>3750.0</td>\n",
       "      <td>0</td>\n",
       "      <td>0</td>\n",
       "      <td>1</td>\n",
       "    </tr>\n",
       "    <tr>\n",
       "      <th>1</th>\n",
       "      <td>Adelie</td>\n",
       "      <td>39.5</td>\n",
       "      <td>17.4</td>\n",
       "      <td>186.0</td>\n",
       "      <td>3800.0</td>\n",
       "      <td>1</td>\n",
       "      <td>0</td>\n",
       "      <td>1</td>\n",
       "    </tr>\n",
       "    <tr>\n",
       "      <th>2</th>\n",
       "      <td>Adelie</td>\n",
       "      <td>40.3</td>\n",
       "      <td>18.0</td>\n",
       "      <td>195.0</td>\n",
       "      <td>3250.0</td>\n",
       "      <td>1</td>\n",
       "      <td>0</td>\n",
       "      <td>1</td>\n",
       "    </tr>\n",
       "  </tbody>\n",
       "</table>\n",
       "</div>"
      ],
      "text/plain": [
       "  species  culmen_length_mm  culmen_depth_mm  flipper_length_mm  body_mass_g  \\\n",
       "0  Adelie              39.1             18.7              181.0       3750.0   \n",
       "1  Adelie              39.5             17.4              186.0       3800.0   \n",
       "2  Adelie              40.3             18.0              195.0       3250.0   \n",
       "\n",
       "   sex  isla_Dream  isla_Torgersen  \n",
       "0    0           0               1  \n",
       "1    1           0               1  \n",
       "2    1           0               1  "
      ]
     },
     "execution_count": 41,
     "metadata": {},
     "output_type": "execute_result"
    }
   ],
   "source": [
    "data.head(3)"
   ]
  },
  {
   "cell_type": "code",
   "execution_count": 42,
   "id": "varying-deficit",
   "metadata": {},
   "outputs": [
    {
     "data": {
      "text/plain": [
       "species              0\n",
       "culmen_length_mm     0\n",
       "culmen_depth_mm      0\n",
       "flipper_length_mm    0\n",
       "body_mass_g          0\n",
       "sex                  0\n",
       "isla_Dream           0\n",
       "isla_Torgersen       0\n",
       "dtype: int64"
      ]
     },
     "execution_count": 42,
     "metadata": {},
     "output_type": "execute_result"
    }
   ],
   "source": [
    "data.isnull().sum()"
   ]
  },
  {
   "cell_type": "code",
   "execution_count": 43,
   "id": "disturbed-auckland",
   "metadata": {},
   "outputs": [
    {
     "data": {
      "text/plain": [
       "species               object\n",
       "culmen_length_mm     float64\n",
       "culmen_depth_mm      float64\n",
       "flipper_length_mm    float64\n",
       "body_mass_g          float64\n",
       "sex                    int64\n",
       "isla_Dream             uint8\n",
       "isla_Torgersen         uint8\n",
       "dtype: object"
      ]
     },
     "execution_count": 43,
     "metadata": {},
     "output_type": "execute_result"
    }
   ],
   "source": [
    "data.dtypes"
   ]
  },
  {
   "cell_type": "markdown",
   "id": "friendly-optimization",
   "metadata": {},
   "source": [
    "#### Generación de modelo\n",
    "\n",
    "Vamos a utilizar distintos modelos. En primer lugar generaremos X e y y dividieremos los datos en entrenamiento y testeosifier"
   ]
  },
  {
   "cell_type": "code",
   "execution_count": 44,
   "id": "corporate-celebration",
   "metadata": {},
   "outputs": [],
   "source": [
    "X = data.drop(columns=\"species\")\n",
    "y = data[\"species\"]"
   ]
  },
  {
   "cell_type": "code",
   "execution_count": 99,
   "id": "buried-drawing",
   "metadata": {
    "id": "finished-scale"
   },
   "outputs": [],
   "source": [
    "# Dividimos datos en train y test\n",
    "\n",
    "from sklearn.model_selection import train_test_split\n",
    "\n",
    "X_train, X_test, y_train, y_test = train_test_split(X, y, random_state=48)  #por default 25% de test\n"
   ]
  },
  {
   "cell_type": "code",
   "execution_count": 100,
   "id": "liberal-hierarchy",
   "metadata": {
    "colab": {
     "base_uri": "https://localhost:8080/"
    },
    "id": "involved-bahamas",
    "outputId": "8ed93140-4a68-4f85-d464-4707d9af1531"
   },
   "outputs": [
    {
     "name": "stdout",
     "output_type": "stream",
     "text": [
      "El tamaño de X_train es:  (256, 7)\n",
      "El tamaño de X_test es:  (86, 7)\n",
      "El tamaño de y_train es:  (256,)\n",
      "El tamaño de y_test es:  (86,)\n"
     ]
    }
   ],
   "source": [
    "print(\"El tamaño de X_train es: \", X_train.shape)\n",
    "print(\"El tamaño de X_test es: \",X_test.shape)\n",
    "print(\"El tamaño de y_train es: \",y_train.shape)\n",
    "print(\"El tamaño de y_test es: \",y_test.shape)"
   ]
  },
  {
   "cell_type": "markdown",
   "id": "proud-minnesota",
   "metadata": {},
   "source": [
    "#### Árbol de decisión\n",
    "\n",
    "https://scikit-learn.org/stable/modules/generated/sklearn.tree.DecisionTreeClassifier.html#sklearn.tree.DecisionTreeClas"
   ]
  },
  {
   "cell_type": "code",
   "execution_count": 101,
   "id": "tribal-newark",
   "metadata": {
    "id": "retained-contamination"
   },
   "outputs": [],
   "source": [
    "#Importamos el modelo que utilizaremos: Arbol de decisión clasificación\n",
    "    \n",
    "from sklearn.tree import DecisionTreeClassifier\n"
   ]
  },
  {
   "cell_type": "code",
   "execution_count": 102,
   "id": "accessory-specialist",
   "metadata": {
    "id": "japanese-gossip"
   },
   "outputs": [],
   "source": [
    "#Instanciamos el modelo que utilizaremos \n",
    "arbol = DecisionTreeClassifier()"
   ]
  },
  {
   "cell_type": "code",
   "execution_count": 103,
   "id": "atmospheric-third",
   "metadata": {
    "colab": {
     "base_uri": "https://localhost:8080/"
    },
    "id": "satisfactory-capability",
    "outputId": "220644a0-f766-4f2b-bd02-959df46ebb9d"
   },
   "outputs": [
    {
     "data": {
      "text/plain": [
       "DecisionTreeClassifier()"
      ]
     },
     "execution_count": 103,
     "metadata": {},
     "output_type": "execute_result"
    }
   ],
   "source": [
    "#Entrenamos el modelo\n",
    "\n",
    "arbol.fit(X_train, y_train)"
   ]
  },
  {
   "cell_type": "markdown",
   "id": "juvenile-session",
   "metadata": {},
   "source": [
    "##### Visualizamos el Árbol de decisión\n",
    "\n",
    "https://scikit-learn.org/stable/modules/generated/sklearn.tree.plot_tree.html#sklearn.tree.plot_tree\n"
   ]
  },
  {
   "cell_type": "code",
   "execution_count": 104,
   "id": "special-weapon",
   "metadata": {},
   "outputs": [
    {
     "data": {
      "text/plain": [
       "[Text(637.7142857142857, 978.48, 'culmen_depth_mm <= 206.5\\ngini = 0.628\\nsamples = 256\\nvalue = [117, 47, 92]\\nclass = Adelie'),\n",
       " Text(398.57142857142856, 761.0400000000001, 'species <= 43.35\\ngini = 0.402\\nsamples = 160\\nvalue = [116, 43, 1]\\nclass = Adelie'),\n",
       " Text(159.42857142857142, 543.6, 'species <= 42.4\\ngini = 0.034\\nsamples = 116\\nvalue = [114, 2, 0]\\nclass = Adelie'),\n",
       " Text(79.71428571428571, 326.1600000000001, 'gini = 0.0\\nsamples = 107\\nvalue = [107, 0, 0]\\nclass = Adelie'),\n",
       " Text(239.1428571428571, 326.1600000000001, 'body_mass_g <= 0.5\\ngini = 0.346\\nsamples = 9\\nvalue = [7, 2, 0]\\nclass = Adelie'),\n",
       " Text(159.42857142857142, 108.72000000000003, 'gini = 0.0\\nsamples = 7\\nvalue = [7, 0, 0]\\nclass = Adelie'),\n",
       " Text(318.85714285714283, 108.72000000000003, 'gini = 0.0\\nsamples = 2\\nvalue = [0, 2, 0]\\nclass = Gentoo'),\n",
       " Text(637.7142857142857, 543.6, 'sex <= 0.5\\ngini = 0.129\\nsamples = 44\\nvalue = [2, 41, 1]\\nclass = Gentoo'),\n",
       " Text(558.0, 326.1600000000001, 'species <= 47.2\\ngini = 0.444\\nsamples = 3\\nvalue = [2, 0, 1]\\nclass = Adelie'),\n",
       " Text(478.2857142857142, 108.72000000000003, 'gini = 0.0\\nsamples = 2\\nvalue = [2, 0, 0]\\nclass = Adelie'),\n",
       " Text(637.7142857142857, 108.72000000000003, 'gini = 0.0\\nsamples = 1\\nvalue = [0, 0, 1]\\nclass = Chinstrap'),\n",
       " Text(717.4285714285713, 326.1600000000001, 'gini = 0.0\\nsamples = 41\\nvalue = [0, 41, 0]\\nclass = Gentoo'),\n",
       " Text(876.8571428571428, 761.0400000000001, 'culmen_length_mm <= 17.65\\ngini = 0.1\\nsamples = 96\\nvalue = [1, 4, 91]\\nclass = Chinstrap'),\n",
       " Text(797.1428571428571, 543.6, 'gini = 0.0\\nsamples = 91\\nvalue = [0, 0, 91]\\nclass = Chinstrap'),\n",
       " Text(956.5714285714284, 543.6, 'sex <= 0.5\\ngini = 0.32\\nsamples = 5\\nvalue = [1, 4, 0]\\nclass = Gentoo'),\n",
       " Text(876.8571428571428, 326.1600000000001, 'gini = 0.0\\nsamples = 1\\nvalue = [1, 0, 0]\\nclass = Adelie'),\n",
       " Text(1036.2857142857142, 326.1600000000001, 'gini = 0.0\\nsamples = 4\\nvalue = [0, 4, 0]\\nclass = Gentoo')]"
      ]
     },
     "execution_count": 104,
     "metadata": {},
     "output_type": "execute_result"
    },
    {
     "data": {
      "image/png": "[encoded data removed]",
      "text/plain": [
       "<Figure size 1440x1440 with 1 Axes>"
      ]
     },
     "metadata": {
      "needs_background": "light"
     },
     "output_type": "display_data"
    }
   ],
   "source": [
    "from IPython.display import Image\n",
    "from sklearn import tree\n",
    "\n",
    "class_names = [\"Adelie\", \"Gentoo\", \"Chinstrap\"]\n",
    "plt.figure(figsize = (20,20))\n",
    "tree.plot_tree(arbol, feature_names=data.columns[:-1],filled=True,rounded=True, class_names=class_names)\n"
   ]
  },
  {
   "cell_type": "markdown",
   "id": "decreased-amazon",
   "metadata": {},
   "source": [
    "##### Evaluación de datos de train\n",
    "\n",
    "Podemos utilizar una métrica de evaluación para ver la performance del modelo con los datos de entrenamiento"
   ]
  },
  {
   "cell_type": "code",
   "execution_count": 105,
   "id": "impressive-object",
   "metadata": {},
   "outputs": [],
   "source": [
    "#Vemos el resultado de la predicción de nuestro modelos sobre los datos utilizados para el entrenamiento\n",
    "\n",
    "y_pred_train = arbol.predict(X_train)"
   ]
  },
  {
   "cell_type": "code",
   "execution_count": 106,
   "id": "saving-fruit",
   "metadata": {},
   "outputs": [
    {
     "data": {
      "text/plain": [
       "1.0"
      ]
     },
     "execution_count": 106,
     "metadata": {},
     "output_type": "execute_result"
    }
   ],
   "source": [
    "#Utilizamos la métrica accuracy (extactitud)\n",
    "\n",
    "from sklearn.metrics import accuracy_score\n",
    "\n",
    "exactitud_train_arbol = accuracy_score(y_train, y_pred_train)\n",
    "exactitud_train_arbol"
   ]
  },
  {
   "cell_type": "markdown",
   "id": "discrete-procedure",
   "metadata": {},
   "source": [
    "Podemos observar que el resultado de evaluar los datos de entrenamiento es pefecta, por lo cual podemos pensar que el modelo esta sobreajustado."
   ]
  },
  {
   "cell_type": "markdown",
   "id": "sudden-camping",
   "metadata": {},
   "source": [
    "##### Probamos y evaluamos nuestro modelo\n",
    "\n",
    "Utilizamos el metodo predict para probar nuestro modelo con los datos de test. Luego comparamos la predicciones de nuestro modelo con el resultado real a través de una matriz de confusión y utilizando la métrica accuracy (exactitud)"
   ]
  },
  {
   "cell_type": "code",
   "execution_count": 107,
   "id": "raised-disclosure",
   "metadata": {
    "id": "agreed-library"
   },
   "outputs": [
    {
     "data": {
      "text/plain": [
       "array(['Adelie', 'Chinstrap', 'Adelie', 'Gentoo', 'Gentoo', 'Gentoo',\n",
       "       'Gentoo', 'Chinstrap', 'Adelie', 'Chinstrap', 'Chinstrap',\n",
       "       'Adelie', 'Gentoo', 'Adelie', 'Gentoo', 'Chinstrap', 'Gentoo',\n",
       "       'Gentoo', 'Gentoo', 'Chinstrap', 'Chinstrap', 'Adelie',\n",
       "       'Chinstrap', 'Adelie', 'Adelie', 'Gentoo', 'Chinstrap', 'Gentoo',\n",
       "       'Chinstrap', 'Adelie', 'Gentoo', 'Adelie', 'Adelie', 'Gentoo',\n",
       "       'Adelie', 'Chinstrap', 'Gentoo', 'Gentoo', 'Chinstrap', 'Gentoo',\n",
       "       'Gentoo', 'Chinstrap', 'Adelie', 'Chinstrap', 'Gentoo',\n",
       "       'Chinstrap', 'Adelie', 'Gentoo', 'Gentoo', 'Gentoo', 'Adelie',\n",
       "       'Adelie', 'Adelie', 'Gentoo', 'Adelie', 'Gentoo', 'Adelie',\n",
       "       'Chinstrap', 'Adelie', 'Adelie', 'Adelie', 'Chinstrap', 'Gentoo',\n",
       "       'Adelie', 'Adelie', 'Gentoo', 'Gentoo', 'Adelie', 'Gentoo',\n",
       "       'Gentoo', 'Gentoo', 'Gentoo', 'Adelie', 'Adelie', 'Adelie',\n",
       "       'Gentoo', 'Adelie', 'Adelie', 'Chinstrap', 'Chinstrap', 'Adelie',\n",
       "       'Chinstrap', 'Adelie', 'Chinstrap', 'Adelie', 'Chinstrap'],\n",
       "      dtype=object)"
      ]
     },
     "execution_count": 107,
     "metadata": {},
     "output_type": "execute_result"
    }
   ],
   "source": [
    "# Probamos nuestro modelo con los datos de test\n",
    "\n",
    "y_pred_arbol = arbol.predict(X_test)\n",
    "y_pred_arbol"
   ]
  },
  {
   "cell_type": "code",
   "execution_count": 108,
   "id": "diagnostic-kernel",
   "metadata": {
    "id": "informal-intersection"
   },
   "outputs": [
    {
     "data": {
      "text/plain": [
       "array([[32,  2,  0],\n",
       "       [ 1, 20,  0],\n",
       "       [ 0,  0, 31]], dtype=int64)"
      ]
     },
     "execution_count": 108,
     "metadata": {},
     "output_type": "execute_result"
    }
   ],
   "source": [
    "#comparamos y_test(datos reales) con y_pred_arbol (datos predichos) para ver si el modelo hizo las predicciones correctas\n",
    "\n",
    "# Matriz de confusión:comparando resultado original (y_test) con predicción del modelo (y_pred_knn5)\n",
    "\n",
    "from sklearn.metrics import confusion_matrix\n",
    "\n",
    "matriz_arbol = confusion_matrix(y_test, y_pred_arbol)\n",
    "matriz_arbol"
   ]
  },
  {
   "cell_type": "markdown",
   "id": "immune-russell",
   "metadata": {
    "id": "historical-import"
   },
   "source": [
    "![Matriz de confusión - Python.png](data:image/png;base64,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)"
   ]
  },
  {
   "cell_type": "code",
   "execution_count": 109,
   "id": "capital-supervision",
   "metadata": {
    "id": "addressed-relative"
   },
   "outputs": [
    {
     "data": {
      "text/plain": [
       "Text(33.0, 0.5, 'Etiquetas reales')"
      ]
     },
     "execution_count": 109,
     "metadata": {},
     "output_type": "execute_result"
    },
    {
     "data": {
      "image/png": "[encoded data removed]",
      "text/plain": [
       "<Figure size 432x288 with 2 Axes>"
      ]
     },
     "metadata": {
      "needs_background": "light"
     },
     "output_type": "display_data"
    }
   ],
   "source": [
    "# Vemos la matriz de confusión en una visualización heatmap\n",
    "\n",
    "sns.heatmap(matriz_arbol, annot=True)\n",
    "plt.xlabel(\"Etiquetas predichas\")\n",
    "plt.ylabel(\"Etiquetas reales\")"
   ]
  },
  {
   "cell_type": "code",
   "execution_count": 110,
   "id": "adapted-latin",
   "metadata": {
    "id": "rotary-hardware"
   },
   "outputs": [
    {
     "data": {
      "text/plain": [
       "0.9651162790697675"
      ]
     },
     "execution_count": 110,
     "metadata": {},
     "output_type": "execute_result"
    }
   ],
   "source": [
    "#Metrica accuracy\n",
    "\n",
    "from sklearn.metrics import accuracy_score\n",
    "\n",
    "exactitud_arbol = accuracy_score(y_test, y_pred_arbol)\n",
    "exactitud_arbol"
   ]
  },
  {
   "cell_type": "markdown",
   "id": "developed-shepherd",
   "metadata": {},
   "source": [
    "#### Hiperparámetro distintos\n",
    "\n",
    "Los algoritmos de árboles de decisión tienen una tendencia al sobreajuste (overfitting). Para evitar eso es posible ajustar los distintos hiperpárametros para reducir la complejidad de los árboles, se utiliza un mecanismo denominado \"poda\", reduciendo el tamaño del árbol a través de limitar la profundidad máxima, limitar el número de muestrar requeridas por cada hoja o limitando el número mínimo de muestras para particionar. \n",
    "\n",
    "En este caso realizaremos dos modelos modificando el hiperparámetro: \"max_depth\""
   ]
  },
  {
   "cell_type": "code",
   "execution_count": 111,
   "id": "communist-schema",
   "metadata": {
    "id": "japanese-gossip"
   },
   "outputs": [],
   "source": [
    "#Instanciamos el modelo que utilizaremos\n",
    "\n",
    "arbol_depth3 = DecisionTreeClassifier(max_depth=3)"
   ]
  },
  {
   "cell_type": "code",
   "execution_count": 112,
   "id": "advisory-column",
   "metadata": {
    "colab": {
     "base_uri": "https://localhost:8080/"
    },
    "id": "satisfactory-capability",
    "outputId": "220644a0-f766-4f2b-bd02-959df46ebb9d"
   },
   "outputs": [
    {
     "data": {
      "text/plain": [
       "DecisionTreeClassifier(max_depth=3)"
      ]
     },
     "execution_count": 112,
     "metadata": {},
     "output_type": "execute_result"
    }
   ],
   "source": [
    "#Entrenamos el modelo \n",
    "\n",
    "arbol_depth3.fit(X_train, y_train)"
   ]
  },
  {
   "cell_type": "code",
   "execution_count": 113,
   "id": "twelve-baltimore",
   "metadata": {},
   "outputs": [
    {
     "data": {
      "text/plain": [
       "[Text(604.5, 951.3000000000001, 'culmen_depth_mm <= 206.5\\ngini = 0.628\\nsamples = 256\\nvalue = [117, 47, 92]\\nclass = Adelie'),\n",
       " Text(372.0, 679.5, 'species <= 43.35\\ngini = 0.402\\nsamples = 160\\nvalue = [116, 43, 1]\\nclass = Adelie'),\n",
       " Text(186.0, 407.70000000000005, 'species <= 42.4\\ngini = 0.034\\nsamples = 116\\nvalue = [114, 2, 0]\\nclass = Adelie'),\n",
       " Text(93.0, 135.89999999999998, 'gini = 0.0\\nsamples = 107\\nvalue = [107, 0, 0]\\nclass = Adelie'),\n",
       " Text(279.0, 135.89999999999998, 'gini = 0.346\\nsamples = 9\\nvalue = [7, 2, 0]\\nclass = Adelie'),\n",
       " Text(558.0, 407.70000000000005, 'sex <= 0.5\\ngini = 0.129\\nsamples = 44\\nvalue = [2, 41, 1]\\nclass = Gentoo'),\n",
       " Text(465.0, 135.89999999999998, 'gini = 0.444\\nsamples = 3\\nvalue = [2, 0, 1]\\nclass = Adelie'),\n",
       " Text(651.0, 135.89999999999998, 'gini = 0.0\\nsamples = 41\\nvalue = [0, 41, 0]\\nclass = Gentoo'),\n",
       " Text(837.0, 679.5, 'culmen_length_mm <= 17.65\\ngini = 0.1\\nsamples = 96\\nvalue = [1, 4, 91]\\nclass = Chinstrap'),\n",
       " Text(744.0, 407.70000000000005, 'gini = 0.0\\nsamples = 91\\nvalue = [0, 0, 91]\\nclass = Chinstrap'),\n",
       " Text(930.0, 407.70000000000005, 'sex <= 0.5\\ngini = 0.32\\nsamples = 5\\nvalue = [1, 4, 0]\\nclass = Gentoo'),\n",
       " Text(837.0, 135.89999999999998, 'gini = 0.0\\nsamples = 1\\nvalue = [1, 0, 0]\\nclass = Adelie'),\n",
       " Text(1023.0, 135.89999999999998, 'gini = 0.0\\nsamples = 4\\nvalue = [0, 4, 0]\\nclass = Gentoo')]"
      ]
     },
     "execution_count": 113,
     "metadata": {},
     "output_type": "execute_result"
    },
    {
     "data": {
      "image/png": "[encoded data removed]",
      "text/plain": [
       "<Figure size 1440x1440 with 1 Axes>"
      ]
     },
     "metadata": {
      "needs_background": "light"
     },
     "output_type": "display_data"
    }
   ],
   "source": [
    "class_names = [\"Adelie\", \"Gentoo\", \"Chinstrap\"]\n",
    "plt.figure(figsize = (20,20))\n",
    "tree.plot_tree(arbol_depth3, feature_names=data.columns[:-1],filled=True,rounded=True, class_names=class_names)\n"
   ]
  },
  {
   "cell_type": "markdown",
   "id": "respective-mileage",
   "metadata": {},
   "source": [
    "##### Evaluación de datos de train\n",
    "\n",
    "Podemos utilizar una métrica de evaluación para ver la performance del modelo con los datos de entrenamiento"
   ]
  },
  {
   "cell_type": "code",
   "execution_count": 114,
   "id": "latter-bonus",
   "metadata": {},
   "outputs": [
    {
     "data": {
      "text/plain": [
       "0.98828125"
      ]
     },
     "execution_count": 114,
     "metadata": {},
     "output_type": "execute_result"
    }
   ],
   "source": [
    "y_pred_train_depth3 = arbol_depth3.predict(X_train)\n",
    "accuracy_score(y_train, y_pred_train_depth3)\n"
   ]
  },
  {
   "cell_type": "markdown",
   "id": "unusual-sellers",
   "metadata": {},
   "source": [
    "##### Probamos y evaluamos nuestro modelo\n",
    "\n",
    "Utilizamos el metodo predict para probar nuestro modelo con los datos de test. Luego comparamos la predicciones de nuestro modelo con el resultado real a través de una matrix de confusión y utilizando la métrica accuracy (exactitud)"
   ]
  },
  {
   "cell_type": "code",
   "execution_count": 115,
   "id": "sweet-eleven",
   "metadata": {
    "id": "agreed-library"
   },
   "outputs": [
    {
     "data": {
      "text/plain": [
       "array(['Adelie', 'Chinstrap', 'Adelie', 'Gentoo', 'Gentoo', 'Gentoo',\n",
       "       'Gentoo', 'Chinstrap', 'Adelie', 'Chinstrap', 'Adelie', 'Adelie',\n",
       "       'Gentoo', 'Adelie', 'Gentoo', 'Chinstrap', 'Gentoo', 'Gentoo',\n",
       "       'Gentoo', 'Chinstrap', 'Chinstrap', 'Adelie', 'Chinstrap',\n",
       "       'Adelie', 'Adelie', 'Gentoo', 'Chinstrap', 'Gentoo', 'Chinstrap',\n",
       "       'Adelie', 'Gentoo', 'Adelie', 'Adelie', 'Gentoo', 'Adelie',\n",
       "       'Chinstrap', 'Gentoo', 'Gentoo', 'Chinstrap', 'Gentoo', 'Gentoo',\n",
       "       'Adelie', 'Adelie', 'Chinstrap', 'Gentoo', 'Chinstrap', 'Adelie',\n",
       "       'Gentoo', 'Gentoo', 'Gentoo', 'Adelie', 'Adelie', 'Adelie',\n",
       "       'Gentoo', 'Adelie', 'Gentoo', 'Adelie', 'Chinstrap', 'Adelie',\n",
       "       'Adelie', 'Adelie', 'Chinstrap', 'Gentoo', 'Adelie', 'Adelie',\n",
       "       'Gentoo', 'Gentoo', 'Adelie', 'Gentoo', 'Gentoo', 'Gentoo',\n",
       "       'Gentoo', 'Adelie', 'Adelie', 'Adelie', 'Gentoo', 'Adelie',\n",
       "       'Adelie', 'Chinstrap', 'Chinstrap', 'Adelie', 'Chinstrap',\n",
       "       'Adelie', 'Chinstrap', 'Adelie', 'Chinstrap'], dtype=object)"
      ]
     },
     "execution_count": 115,
     "metadata": {},
     "output_type": "execute_result"
    }
   ],
   "source": [
    "# Probar nuestro modelo con los datos de test\n",
    "\n",
    "y_pred_depth3 = arbol_depth3.predict(X_test)\n",
    "y_pred_depth3"
   ]
  },
  {
   "cell_type": "code",
   "execution_count": 116,
   "id": "intensive-prince",
   "metadata": {
    "id": "informal-intersection"
   },
   "outputs": [
    {
     "data": {
      "text/plain": [
       "Text(33.0, 0.5, 'Etiquetas reales')"
      ]
     },
     "execution_count": 116,
     "metadata": {},
     "output_type": "execute_result"
    },
    {
     "data": {
      "image/png": "[encoded data removed]",
      "text/plain": [
       "<Figure size 432x288 with 2 Axes>"
      ]
     },
     "metadata": {
      "needs_background": "light"
     },
     "output_type": "display_data"
    }
   ],
   "source": [
    "# Matriz de confusión:comparando resultado original (y_test) con predicción del modelo (y_pred_depth4)\n",
    "matriz_depth3 = confusion_matrix(y_test, y_pred_depth3)\n",
    "sns.heatmap(matriz_depth3, annot=True)\n",
    "plt.xlabel(\"Etiquetas predichas\")\n",
    "plt.ylabel(\"Etiquetas reales\")"
   ]
  },
  {
   "cell_type": "code",
   "execution_count": 117,
   "id": "integral-shade",
   "metadata": {
    "id": "rotary-hardware"
   },
   "outputs": [
    {
     "data": {
      "text/plain": [
       "0.9418604651162791"
      ]
     },
     "execution_count": 117,
     "metadata": {},
     "output_type": "execute_result"
    }
   ],
   "source": [
    "exactitud_depth3 = accuracy_score(y_test, y_pred_depth3)\n",
    "exactitud_depth3"
   ]
  },
  {
   "cell_type": "code",
   "execution_count": 118,
   "id": "indian-hamburg",
   "metadata": {},
   "outputs": [
    {
     "name": "stdout",
     "output_type": "stream",
     "text": [
      "La exactitud del modelo árbol de decisión 0.9651162790697675\n",
      "La exactitud del modelo árbol de decisión con profundidad máxima de 3 es 0.9418604651162791\n"
     ]
    }
   ],
   "source": [
    "print(\"La exactitud del modelo árbol de decisión\", exactitud_arbol)\n",
    "print(\"La exactitud del modelo árbol de decisión con profundidad máxima de 3 es\", exactitud_depth3)"
   ]
  },
  {
   "cell_type": "markdown",
   "id": "narrow-attention",
   "metadata": {},
   "source": [
    "#### Regresión logística\n",
    "\n",
    "Entrenaremos un modelo de regresión logística\n",
    "\n",
    "https://scikit-learn.org/stable/modules/generated/sklearn.linear_model.LogisticRegression.html\n"
   ]
  },
  {
   "cell_type": "code",
   "execution_count": 119,
   "id": "robust-major",
   "metadata": {},
   "outputs": [],
   "source": [
    "#importamos el modelo\n",
    "\n",
    "from sklearn.linear_model import LogisticRegression\n"
   ]
  },
  {
   "cell_type": "code",
   "execution_count": 120,
   "id": "reported-collins",
   "metadata": {
    "id": "japanese-gossip"
   },
   "outputs": [],
   "source": [
    "#Instanciamos el modelo que utilizaremos\n",
    "\n",
    "reg_log = LogisticRegression()"
   ]
  },
  {
   "cell_type": "code",
   "execution_count": 121,
   "id": "victorian-ethnic",
   "metadata": {
    "colab": {
     "base_uri": "https://localhost:8080/"
    },
    "id": "satisfactory-capability",
    "outputId": "220644a0-f766-4f2b-bd02-959df46ebb9d"
   },
   "outputs": [
    {
     "name": "stderr",
     "output_type": "stream",
     "text": [
      "C:\\Users\\Valeria\\Anaconda3\\envs\\dhdsblend\\lib\\site-packages\\sklearn\\linear_model\\_logistic.py:764: ConvergenceWarning: lbfgs failed to converge (status=1):\n",
      "STOP: TOTAL NO. of ITERATIONS REACHED LIMIT.\n",
      "\n",
      "Increase the number of iterations (max_iter) or scale the data as shown in:\n",
      "    https://scikit-learn.org/stable/modules/preprocessing.html\n",
      "Please also refer to the documentation for alternative solver options:\n",
      "    https://scikit-learn.org/stable/modules/linear_model.html#logistic-regression\n",
      "  extra_warning_msg=_LOGISTIC_SOLVER_CONVERGENCE_MSG)\n"
     ]
    },
    {
     "data": {
      "text/plain": [
       "LogisticRegression()"
      ]
     },
     "execution_count": 121,
     "metadata": {},
     "output_type": "execute_result"
    }
   ],
   "source": [
    "#Entrenamos el modelo \n",
    "\n",
    "reg_log.fit(X_train, y_train)"
   ]
  },
  {
   "cell_type": "code",
   "execution_count": 122,
   "id": "innocent-sympathy",
   "metadata": {},
   "outputs": [
    {
     "data": {
      "text/plain": [
       "array([[-7.29062414e-01,  1.21549658e+00,  5.71813086e-02,\n",
       "         3.68431876e-04, -7.16185370e-02, -5.38194663e-02,\n",
       "         1.70016031e-01],\n",
       "       [ 1.21196679e+00, -4.58284635e-02, -1.50228787e-01,\n",
       "        -5.71724517e-03, -2.51349002e-02,  1.60481771e-01,\n",
       "        -1.05839488e-01],\n",
       "       [-4.82904374e-01, -1.16966812e+00,  9.30474787e-02,\n",
       "         5.34881330e-03,  9.67534371e-02, -1.06662305e-01,\n",
       "        -6.41765434e-02]])"
      ]
     },
     "execution_count": 122,
     "metadata": {},
     "output_type": "execute_result"
    }
   ],
   "source": [
    "# Podemos observar los coeficientes generados por nuestro modelo\n",
    "\n",
    "reg_log.coef_"
   ]
  },
  {
   "cell_type": "markdown",
   "id": "disciplinary-apparatus",
   "metadata": {},
   "source": [
    "##### Evaluación de datos de train\n",
    "\n",
    "Podemos utilizar una métrica de evaluación para ver la performance del modelo con los datos de entrenamiento"
   ]
  },
  {
   "cell_type": "code",
   "execution_count": 123,
   "id": "better-description",
   "metadata": {},
   "outputs": [
    {
     "data": {
      "text/plain": [
       "0.98828125"
      ]
     },
     "execution_count": 123,
     "metadata": {},
     "output_type": "execute_result"
    }
   ],
   "source": [
    "y_pred_rl = reg_log.predict(X_train)\n",
    "accuracy_score(y_train, y_pred_rl)\n"
   ]
  },
  {
   "cell_type": "markdown",
   "id": "together-pittsburgh",
   "metadata": {},
   "source": [
    "##### Probamos y evaluamos nuestro modelo\n",
    "\n",
    "Utilizamos el metodo predict para probar nuestro modelo con los datos de test. Luego comparamos la predicciones de nuestro modelo con el resultado real a través de una matrix de confusión y utilizando la métrica accuracy (exactitud)"
   ]
  },
  {
   "cell_type": "code",
   "execution_count": 124,
   "id": "disciplinary-absence",
   "metadata": {
    "id": "agreed-library"
   },
   "outputs": [],
   "source": [
    "# Probar nuestro modelo con los datos de test\n",
    "\n",
    "y_pred_rl = reg_log.predict(X_test)\n"
   ]
  },
  {
   "cell_type": "code",
   "execution_count": 125,
   "id": "announced-looking",
   "metadata": {
    "id": "informal-intersection"
   },
   "outputs": [
    {
     "data": {
      "text/plain": [
       "Text(33.0, 0.5, 'Etiquetas reales')"
      ]
     },
     "execution_count": 125,
     "metadata": {},
     "output_type": "execute_result"
    },
    {
     "data": {
      "image/png": "[encoded data removed]",
      "text/plain": [
       "<Figure size 432x288 with 2 Axes>"
      ]
     },
     "metadata": {
      "needs_background": "light"
     },
     "output_type": "display_data"
    }
   ],
   "source": [
    "# Matriz de confusión:comparando resultado original (y_test) con predicción del modelo (y_pred_depth2)\n",
    "matriz_rl = confusion_matrix(y_test, y_pred_rl)\n",
    "sns.heatmap(matriz_rl, annot=True)\n",
    "plt.xlabel(\"Etiquetas predichas\")\n",
    "plt.ylabel(\"Etiquetas reales\")"
   ]
  },
  {
   "cell_type": "code",
   "execution_count": 126,
   "id": "blind-potter",
   "metadata": {
    "id": "rotary-hardware"
   },
   "outputs": [
    {
     "data": {
      "text/plain": [
       "1.0"
      ]
     },
     "execution_count": 126,
     "metadata": {},
     "output_type": "execute_result"
    }
   ],
   "source": [
    "#accuracy\n",
    "\n",
    "exactitud_rl = accuracy_score(y_test, y_pred_rl)\n",
    "exactitud_rl"
   ]
  },
  {
   "cell_type": "code",
   "execution_count": 127,
   "id": "existing-lingerie",
   "metadata": {},
   "outputs": [
    {
     "name": "stdout",
     "output_type": "stream",
     "text": [
      "La exactitud del modelo árbol de decisión 0.97\n",
      "La exactitud del modelo árbol de decisión con profundidad máxima de 3 es 0.94\n",
      "La exactitud del modelo regresión logística 1.0\n"
     ]
    }
   ],
   "source": [
    "#Comparamos la performance de los modelos\n",
    "\n",
    "print(\"La exactitud del modelo árbol de decisión\", round(exactitud_arbol,2))\n",
    "print(\"La exactitud del modelo árbol de decisión con profundidad máxima de 3 es\", round(exactitud_depth3,2))\n",
    "print(\"La exactitud del modelo regresión logística\", exactitud_rl)\n",
    "\n"
   ]
  },
  {
   "cell_type": "markdown",
   "id": "tender-drunk",
   "metadata": {},
   "source": [
    "#### KNN\n",
    "\n",
    "Entrenaremos un modelo de KNN: vecinos más cercanos con distintos hiperparámentros de cantidad de vecinos(n_neighbors)\n",
    "\n",
    "https://scikit-learn.org/stable/modules/generated/sklearn.neighbors.KNeighborsClassifier.html"
   ]
  },
  {
   "cell_type": "code",
   "execution_count": 128,
   "id": "important-clause",
   "metadata": {},
   "outputs": [],
   "source": [
    "#importamos el modelo\n",
    "\n",
    "from sklearn.neighbors import KNeighborsClassifier"
   ]
  },
  {
   "cell_type": "code",
   "execution_count": 129,
   "id": "protected-proxy",
   "metadata": {
    "id": "japanese-gossip"
   },
   "outputs": [],
   "source": [
    "#Instanciamos el modelo que utilizaremos\n",
    "\n",
    "knn3 = KNeighborsClassifier(n_neighbors=3)"
   ]
  },
  {
   "cell_type": "code",
   "execution_count": 130,
   "id": "quality-cabinet",
   "metadata": {
    "colab": {
     "base_uri": "https://localhost:8080/"
    },
    "id": "satisfactory-capability",
    "outputId": "220644a0-f766-4f2b-bd02-959df46ebb9d"
   },
   "outputs": [
    {
     "data": {
      "text/plain": [
       "KNeighborsClassifier(n_neighbors=3)"
      ]
     },
     "execution_count": 130,
     "metadata": {},
     "output_type": "execute_result"
    }
   ],
   "source": [
    "#Entrenamos el modelo \n",
    "\n",
    "knn3.fit(X_train, y_train)"
   ]
  },
  {
   "cell_type": "markdown",
   "id": "detected-baseline",
   "metadata": {},
   "source": [
    "##### Evaluación de datos de train\n",
    "\n",
    "Podemos utilizar una métrica de evaluación para ver la performance del modelo con los datos de entrenamiento"
   ]
  },
  {
   "cell_type": "code",
   "execution_count": 131,
   "id": "atlantic-draft",
   "metadata": {},
   "outputs": [
    {
     "data": {
      "text/plain": [
       "0.875"
      ]
     },
     "execution_count": 131,
     "metadata": {},
     "output_type": "execute_result"
    }
   ],
   "source": [
    "y_pred_knn3 = knn3.predict(X_train)\n",
    "accuracy_score(y_train, y_pred_knn3)\n"
   ]
  },
  {
   "cell_type": "markdown",
   "id": "reduced-bedroom",
   "metadata": {},
   "source": [
    "##### Probamos y evaluamos nuestro modelo\n",
    "\n",
    "Utilizamos el metodo predict para probar nuestro modelo con los datos de test. Luego comparamos la predicciones de nuestro modelo con el resultado real a través de una matrix de confusión y utilizando la métrica accuracy (exactitud)"
   ]
  },
  {
   "cell_type": "code",
   "execution_count": 132,
   "id": "damaged-drink",
   "metadata": {
    "id": "agreed-library"
   },
   "outputs": [],
   "source": [
    "# Probar nuestro modelo con los datos de test\n",
    "\n",
    "y_pred_knn3 = knn3.predict(X_test)\n"
   ]
  },
  {
   "cell_type": "code",
   "execution_count": 133,
   "id": "available-button",
   "metadata": {
    "id": "informal-intersection"
   },
   "outputs": [
    {
     "data": {
      "text/plain": [
       "Text(33.0, 0.5, 'Etiquetas reales')"
      ]
     },
     "execution_count": 133,
     "metadata": {},
     "output_type": "execute_result"
    },
    {
     "data": {
      "image/png": "[encoded data removed]",
      "text/plain": [
       "<Figure size 432x288 with 2 Axes>"
      ]
     },
     "metadata": {
      "needs_background": "light"
     },
     "output_type": "display_data"
    }
   ],
   "source": [
    "# Matriz de confusión:comparando resultado original (y_test) con predicción del modelo (y_pred_depth2)\n",
    "matriz_knn3= confusion_matrix(y_test, y_pred_knn3)\n",
    "sns.heatmap(matriz_knn3, annot=True)\n",
    "plt.xlabel(\"Etiquetas predichas\")\n",
    "plt.ylabel(\"Etiquetas reales\")"
   ]
  },
  {
   "cell_type": "code",
   "execution_count": 134,
   "id": "specialized-extra",
   "metadata": {
    "id": "rotary-hardware"
   },
   "outputs": [
    {
     "data": {
      "text/plain": [
       "0.7674418604651163"
      ]
     },
     "execution_count": 134,
     "metadata": {},
     "output_type": "execute_result"
    }
   ],
   "source": [
    "#accuracy\n",
    "\n",
    "exactitud_knn3 = accuracy_score(y_test, y_pred_knn3)\n",
    "exactitud_knn3"
   ]
  },
  {
   "cell_type": "code",
   "execution_count": 135,
   "id": "approximate-construction",
   "metadata": {},
   "outputs": [
    {
     "name": "stdout",
     "output_type": "stream",
     "text": [
      "La exactitud del modelo árbol de decisión 0.97\n",
      "La exactitud del modelo árbol de decisión con profundidad máxima de 3 es 0.94\n",
      "La exactitud del modelo regresión logística 1.0\n",
      "La exactitud del modelo knn con 3 vecinos más cercanos 0.77\n"
     ]
    }
   ],
   "source": [
    "#Comparamos la performance de los modelos\n",
    "\n",
    "print(\"La exactitud del modelo árbol de decisión\", round(exactitud_arbol,2))\n",
    "print(\"La exactitud del modelo árbol de decisión con profundidad máxima de 3 es\", round(exactitud_depth3,2))\n",
    "print(\"La exactitud del modelo regresión logística\", exactitud_rl)\n",
    "print(\"La exactitud del modelo knn con 3 vecinos más cercanos\", round(exactitud_knn3,2))\n",
    "\n"
   ]
  },
  {
   "cell_type": "markdown",
   "id": "minute-trinidad",
   "metadata": {},
   "source": [
    "##### Cambiando el hiperparámetro\n",
    "\n",
    "cantidad de vecinos (n_neighbors): 5"
   ]
  },
  {
   "cell_type": "code",
   "execution_count": 136,
   "id": "regulation-poster",
   "metadata": {
    "id": "japanese-gossip"
   },
   "outputs": [],
   "source": [
    "#Instanciamos el modelo que utilizaremos\n",
    "\n",
    "knn5 = KNeighborsClassifier(n_neighbors=5)"
   ]
  },
  {
   "cell_type": "code",
   "execution_count": 137,
   "id": "continuing-bicycle",
   "metadata": {
    "colab": {
     "base_uri": "https://localhost:8080/"
    },
    "id": "satisfactory-capability",
    "outputId": "220644a0-f766-4f2b-bd02-959df46ebb9d"
   },
   "outputs": [
    {
     "data": {
      "text/plain": [
       "KNeighborsClassifier()"
      ]
     },
     "execution_count": 137,
     "metadata": {},
     "output_type": "execute_result"
    }
   ],
   "source": [
    "#Entrenamos el modelo \n",
    "\n",
    "knn5.fit(X_train, y_train)"
   ]
  },
  {
   "cell_type": "markdown",
   "id": "prerequisite-token",
   "metadata": {},
   "source": [
    "##### Evaluación de datos de train\n",
    "\n",
    "Podemos utilizar una métrica de evaluación para ver la performance del modelo con los datos de entrenamiento"
   ]
  },
  {
   "cell_type": "code",
   "execution_count": 138,
   "id": "nutritional-reading",
   "metadata": {},
   "outputs": [
    {
     "data": {
      "text/plain": [
       "0.84375"
      ]
     },
     "execution_count": 138,
     "metadata": {},
     "output_type": "execute_result"
    }
   ],
   "source": [
    "y_pred_knn5 = knn5.predict(X_train)\n",
    "accuracy_score(y_train, y_pred_knn5)\n"
   ]
  },
  {
   "cell_type": "markdown",
   "id": "tropical-baptist",
   "metadata": {},
   "source": [
    "##### Probamos y evaluamos nuestro modelo\n",
    "\n",
    "Utilizamos el metodo predict para probar nuestro modelo con los datos de test. Luego comparamos la predicciones de nuestro modelo con el resultado real a través de una matrix de confusión y utilizando la métrica accuracy (exactitud)"
   ]
  },
  {
   "cell_type": "code",
   "execution_count": 139,
   "id": "bulgarian-recycling",
   "metadata": {
    "id": "agreed-library"
   },
   "outputs": [],
   "source": [
    "# Probar nuestro modelo con los datos de test\n",
    "\n",
    "y_pred_knn5 = knn5.predict(X_test)\n"
   ]
  },
  {
   "cell_type": "code",
   "execution_count": 140,
   "id": "acceptable-output",
   "metadata": {
    "id": "informal-intersection"
   },
   "outputs": [
    {
     "data": {
      "text/plain": [
       "Text(33.0, 0.5, 'Etiquetas reales')"
      ]
     },
     "execution_count": 140,
     "metadata": {},
     "output_type": "execute_result"
    },
    {
     "data": {
      "image/png": "[encoded data removed]",
      "text/plain": [
       "<Figure size 432x288 with 2 Axes>"
      ]
     },
     "metadata": {
      "needs_background": "light"
     },
     "output_type": "display_data"
    }
   ],
   "source": [
    "# Matriz de confusión:comparando resultado original (y_test) con predicción del modelo (y_pred_depth2)\n",
    "matriz_knn5= confusion_matrix(y_test, y_pred_knn5)\n",
    "sns.heatmap(matriz_knn5, annot=True)\n",
    "plt.xlabel(\"Etiquetas predichas\")\n",
    "plt.ylabel(\"Etiquetas reales\")"
   ]
  },
  {
   "cell_type": "code",
   "execution_count": 141,
   "id": "proud-prior",
   "metadata": {
    "id": "rotary-hardware"
   },
   "outputs": [
    {
     "data": {
      "text/plain": [
       "0.7209302325581395"
      ]
     },
     "execution_count": 141,
     "metadata": {},
     "output_type": "execute_result"
    }
   ],
   "source": [
    "#accuracy\n",
    "\n",
    "exactitud_knn5 = accuracy_score(y_test, y_pred_knn5)\n",
    "exactitud_knn5"
   ]
  },
  {
   "cell_type": "code",
   "execution_count": 142,
   "id": "inappropriate-council",
   "metadata": {},
   "outputs": [
    {
     "name": "stdout",
     "output_type": "stream",
     "text": [
      "La exactitud del modelo árbol de decisión 0.97\n",
      "La exactitud del modelo árbol de decisión con profundidad máxima de 3 es 0.94\n",
      "La exactitud del modelo regresión logística 1.0\n",
      "La exactitud del modelo knn con 3 vecinos más cercanos 0.77\n",
      "La exactitud del modelo knn con 5 vecinos más cercanos 0.72\n"
     ]
    }
   ],
   "source": [
    "#Comparamos la performance de los modelos\n",
    "\n",
    "print(\"La exactitud del modelo árbol de decisión\", round(exactitud_arbol,2))\n",
    "print(\"La exactitud del modelo árbol de decisión con profundidad máxima de 3 es\", round(exactitud_depth3,2))\n",
    "print(\"La exactitud del modelo regresión logística\", exactitud_rl)\n",
    "print(\"La exactitud del modelo knn con 3 vecinos más cercanos\", round(exactitud_knn3,2))\n",
    "print(\"La exactitud del modelo knn con 5 vecinos más cercanos\", round(exactitud_knn5,2))\n",
    "\n"
   ]
  },
  {
   "cell_type": "markdown",
   "id": "still-probability",
   "metadata": {},
   "source": [
    "##### Estandarizaremos los datos para ver si el resultado es diferente\n",
    "\n",
    "Importamos de la librería de Pre-procesamiento de Scikit-Learn el StandarScaler y creamos el objeto que utilizaremos "
   ]
  },
  {
   "cell_type": "code",
   "execution_count": 143,
   "id": "starting-pencil",
   "metadata": {},
   "outputs": [],
   "source": [
    "from sklearn.preprocessing import StandardScaler\n",
    "scaler = StandardScaler()"
   ]
  },
  {
   "cell_type": "markdown",
   "id": "greenhouse-outdoors",
   "metadata": {},
   "source": [
    "##### Utilizamos el metodo fit_transform sobre los datos de entrenamiento\n",
    "\n",
    "En este caso se entrena el modelo Scaler para definir la Media y el Desvío Estandar y luego se utiliza el método *transform* para transformar los datos de entrenamiento de acuerdo a lo definido en el entrenamiento. Se realiza todo con el mismo método: *fit_transform*"
   ]
  },
  {
   "cell_type": "code",
   "execution_count": 144,
   "id": "toxic-speed",
   "metadata": {},
   "outputs": [],
   "source": [
    "X_train_std = scaler.fit_transform(X_train)"
   ]
  },
  {
   "cell_type": "markdown",
   "id": "controlling-thomas",
   "metadata": {},
   "source": [
    "##### Utilizamos el metodo transform sobre los datos de testeo"
   ]
  },
  {
   "cell_type": "code",
   "execution_count": 145,
   "id": "modular-humanity",
   "metadata": {},
   "outputs": [],
   "source": [
    "X_test_std = scaler.transform(X_test)"
   ]
  },
  {
   "cell_type": "markdown",
   "id": "greater-durham",
   "metadata": {},
   "source": [
    "##### Entrenamos y testeamos nuevamente\n",
    "\n",
    "Utilizamos el modelo KNN con 3 vecinos más cercanos con los datos estandarizados"
   ]
  },
  {
   "cell_type": "code",
   "execution_count": 146,
   "id": "flush-story",
   "metadata": {
    "id": "japanese-gossip"
   },
   "outputs": [],
   "source": [
    "#Instanciamos el modelo que utilizaremos\n",
    "\n",
    "knn3_sca = KNeighborsClassifier(n_neighbors=3)"
   ]
  },
  {
   "cell_type": "code",
   "execution_count": 147,
   "id": "assumed-guidance",
   "metadata": {
    "colab": {
     "base_uri": "https://localhost:8080/"
    },
    "id": "satisfactory-capability",
    "outputId": "220644a0-f766-4f2b-bd02-959df46ebb9d"
   },
   "outputs": [
    {
     "data": {
      "text/plain": [
       "KNeighborsClassifier(n_neighbors=3)"
      ]
     },
     "execution_count": 147,
     "metadata": {},
     "output_type": "execute_result"
    }
   ],
   "source": [
    "#Entrenamos el modelo con los datos de X_train escalados\n",
    "\n",
    "knn3_sca.fit(X_train_std, y_train)"
   ]
  },
  {
   "cell_type": "markdown",
   "id": "recent-browser",
   "metadata": {},
   "source": [
    "##### Evaluación de datos de train\n",
    "\n",
    "Podemos utilizar una métrica de evaluación para ver la performance del modelo con los datos de entrenamiento"
   ]
  },
  {
   "cell_type": "code",
   "execution_count": 148,
   "id": "worldwide-burden",
   "metadata": {},
   "outputs": [
    {
     "data": {
      "text/plain": [
       "0.99609375"
      ]
     },
     "execution_count": 148,
     "metadata": {},
     "output_type": "execute_result"
    }
   ],
   "source": [
    "y_pred_knn3_sca = knn3_sca.predict(X_train_std)\n",
    "accuracy_score(y_train, y_pred_knn3_sca)\n"
   ]
  },
  {
   "cell_type": "markdown",
   "id": "offensive-given",
   "metadata": {},
   "source": [
    "##### Probamos y evaluamos nuestro modelo\n",
    "\n",
    "Utilizamos el metodo predict para probar nuestro modelo con los datos de test. Luego comparamos la predicciones de nuestro modelo con el resultado real a través de una matrix de confusión y utilizando la métrica accuracy (exactitud)"
   ]
  },
  {
   "cell_type": "code",
   "execution_count": 149,
   "id": "agricultural-glenn",
   "metadata": {
    "id": "agreed-library"
   },
   "outputs": [],
   "source": [
    "# Probar nuestro modelo con los datos de test\n",
    "\n",
    "y_pred_knn3_sca = knn3_sca.predict(X_test_std)\n"
   ]
  },
  {
   "cell_type": "code",
   "execution_count": 150,
   "id": "wrapped-recognition",
   "metadata": {
    "id": "informal-intersection"
   },
   "outputs": [
    {
     "data": {
      "text/plain": [
       "Text(33.0, 0.5, 'Etiquetas reales')"
      ]
     },
     "execution_count": 150,
     "metadata": {},
     "output_type": "execute_result"
    },
    {
     "data": {
      "image/png": "[encoded data removed]",
      "text/plain": [
       "<Figure size 432x288 with 2 Axes>"
      ]
     },
     "metadata": {
      "needs_background": "light"
     },
     "output_type": "display_data"
    }
   ],
   "source": [
    "# Matriz de confusión:comparando resultado original (y_test) con predicción del modelo (y_pred_depth2)\n",
    "matriz_knn3_sca= confusion_matrix(y_test, y_pred_knn3_sca)\n",
    "sns.heatmap(matriz_knn3_sca, annot=True)\n",
    "plt.xlabel(\"Etiquetas predichas\")\n",
    "plt.ylabel(\"Etiquetas reales\")"
   ]
  },
  {
   "cell_type": "code",
   "execution_count": 151,
   "id": "desperate-society",
   "metadata": {
    "id": "rotary-hardware"
   },
   "outputs": [
    {
     "data": {
      "text/plain": [
       "0.9767441860465116"
      ]
     },
     "execution_count": 151,
     "metadata": {},
     "output_type": "execute_result"
    }
   ],
   "source": [
    "#accuracy\n",
    "\n",
    "exactitud_knn3_sca = accuracy_score(y_test, y_pred_knn3_sca)\n",
    "exactitud_knn3_sca"
   ]
  },
  {
   "cell_type": "code",
   "execution_count": 153,
   "id": "geological-courtesy",
   "metadata": {},
   "outputs": [
    {
     "name": "stdout",
     "output_type": "stream",
     "text": [
      "La exactitud del modelo árbol de decisión 0.97\n",
      "La exactitud del modelo árbol de decisión con profundidad máxima de 3 es 0.94\n",
      "La exactitud del modelo regresión logística 1.0\n",
      "La exactitud del modelo knn con 3 vecinos más cercanos 0.77\n",
      "La exactitud del modelo knn con 5 vecinos más cercanos 0.72\n",
      "La exactitud del modelo knn con 3 vecinos más cercanos con datos estandarizados 0.98\n"
     ]
    }
   ],
   "source": [
    "#Comparamos la performance de los modelos\n",
    "\n",
    "print(\"La exactitud del modelo árbol de decisión\", round(exactitud_arbol,2))\n",
    "print(\"La exactitud del modelo árbol de decisión con profundidad máxima de 3 es\", round(exactitud_depth3,2))\n",
    "print(\"La exactitud del modelo regresión logística\", exactitud_rl)\n",
    "print(\"La exactitud del modelo knn con 3 vecinos más cercanos\", round(exactitud_knn3,2))\n",
    "print(\"La exactitud del modelo knn con 5 vecinos más cercanos\", round(exactitud_knn5,2))\n",
    "print(\"La exactitud del modelo knn con 3 vecinos más cercanos con datos estandarizados\", round(exactitud_knn3_sca,2))\n",
    "\n"
   ]
  }
 ],
 "metadata": {
  "kernelspec": {
   "display_name": "Python 3",
   "language": "python",
   "name": "python3"
  },
  "language_info": {
   "codemirror_mode": {
    "name": "ipython",
    "version": 3
   },
   "file_extension": ".py",
   "mimetype": "text/x-python",
   "name": "python",
   "nbconvert_exporter": "python",
   "pygments_lexer": "ipython3",
   "version": "3.7.10"
  }
 },
 "nbformat": 4,
 "nbformat_minor": 5
}
